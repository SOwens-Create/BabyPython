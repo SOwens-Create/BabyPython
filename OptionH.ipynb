{
  "nbformat": 4,
  "nbformat_minor": 0,
  "metadata": {
    "colab": {
      "provenance": [],
      "authorship_tag": "ABX9TyO89W1ApPJafGHuW4cjrky5",
      "include_colab_link": true
    },
    "kernelspec": {
      "name": "python3",
      "display_name": "Python 3"
    },
    "language_info": {
      "name": "python"
    }
  },
  "cells": [
    {
      "cell_type": "markdown",
      "metadata": {
        "id": "view-in-github",
        "colab_type": "text"
      },
      "source": [
        "<a href=\"https://colab.research.google.com/github/SOwens-Create/BabyPython/blob/master/OptionH.ipynb\" target=\"_parent\"><img src=\"https://colab.research.google.com/assets/colab-badge.svg\" alt=\"Open In Colab\"/></a>"
      ]
    },
    {
      "cell_type": "code",
      "execution_count": 7,
      "metadata": {
        "colab": {
          "base_uri": "https://localhost:8080/",
          "height": 321
        },
        "id": "Xoe1wWRBtfRI",
        "outputId": "40eb89c7-cc49-414b-ebf2-af5d70fe58a5"
      },
      "outputs": [
        {
          "output_type": "error",
          "ename": "error",
          "evalue": "ignored",
          "traceback": [
            "\u001b[0;31m---------------------------------------------------------------------------\u001b[0m",
            "\u001b[0;31merror\u001b[0m                                     Traceback (most recent call last)",
            "\u001b[0;32m<ipython-input-7-9b81309943b2>\u001b[0m in \u001b[0;36m<cell line: 83>\u001b[0;34m()\u001b[0m\n\u001b[1;32m     82\u001b[0m \u001b[0;34m\u001b[0m\u001b[0m\n\u001b[1;32m     83\u001b[0m \u001b[0;32mif\u001b[0m \u001b[0m__name__\u001b[0m \u001b[0;34m==\u001b[0m \u001b[0;34m'__main__'\u001b[0m\u001b[0;34m:\u001b[0m\u001b[0;34m\u001b[0m\u001b[0;34m\u001b[0m\u001b[0m\n\u001b[0;32m---> 84\u001b[0;31m   \u001b[0mmain\u001b[0m\u001b[0;34m(\u001b[0m\u001b[0;34m)\u001b[0m\u001b[0;34m\u001b[0m\u001b[0;34m\u001b[0m\u001b[0m\n\u001b[0m",
            "\u001b[0;32m<ipython-input-7-9b81309943b2>\u001b[0m in \u001b[0;36mmain\u001b[0;34m()\u001b[0m\n\u001b[1;32m      8\u001b[0m \u001b[0;34m\u001b[0m\u001b[0m\n\u001b[1;32m      9\u001b[0m   \u001b[0;31m# Convert the image to RGB.\u001b[0m\u001b[0;34m\u001b[0m\u001b[0;34m\u001b[0m\u001b[0m\n\u001b[0;32m---> 10\u001b[0;31m   \u001b[0mimage\u001b[0m \u001b[0;34m=\u001b[0m \u001b[0mcv2\u001b[0m\u001b[0;34m.\u001b[0m\u001b[0mcvtColor\u001b[0m\u001b[0;34m(\u001b[0m\u001b[0mimage\u001b[0m\u001b[0;34m,\u001b[0m \u001b[0mcv2\u001b[0m\u001b[0;34m.\u001b[0m\u001b[0mCOLOR_BGR2RGB\u001b[0m\u001b[0;34m)\u001b[0m\u001b[0;34m\u001b[0m\u001b[0;34m\u001b[0m\u001b[0m\n\u001b[0m\u001b[1;32m     11\u001b[0m \u001b[0;34m\u001b[0m\u001b[0m\n\u001b[1;32m     12\u001b[0m AR_MARKERS = [\n",
            "\u001b[0;31merror\u001b[0m: OpenCV(4.7.0) /io/opencv/modules/imgproc/src/color.cpp:182: error: (-215:Assertion failed) !_src.empty() in function 'cvtColor'\n"
          ]
        }
      ],
      "source": [
        "import cv2\n",
        "import numpy as np\n",
        "from PIL import Image\n",
        "\n",
        "def main():\n",
        "  # Read the image.\n",
        "  image = cv2.imread('/content/drive/MyDrive/IMG-2909.jpg')\n",
        "\n",
        "  # Convert the image to RGB.\n",
        "  image = cv2.cvtColor(image, cv2.COLOR_BGR2RGB)\n",
        "\n",
        "AR_MARKERS = [\n",
        "    [\n",
        "        [0, 0],\n",
        "        [1, 0],\n",
        "        [1, 1],\n",
        "        [0, 1],\n",
        "    ],\n",
        "    [\n",
        "        [0, 0],\n",
        "        [1, 0],\n",
        "        [1, 1],\n",
        "        [0, 1],\n",
        "    ],\n",
        "    [\n",
        "        [0, 0],\n",
        "        [1, 0],\n",
        "        [1, 1],\n",
        "        [0, 1],\n",
        "    ],\n",
        "    [\n",
        "        [0, 0],\n",
        "        [1, 0],\n",
        "        [1, 1],\n",
        "        [0, 1],\n",
        "    ],\n",
        "]\n",
        "\n",
        "def is_ar_image(image):\n",
        "  # Check if the image contains augmented reality markers.\n",
        "  for marker in AR_MARKERS:\n",
        "    if marker in image:\n",
        "      return True\n",
        "\n",
        "  return False\n",
        "\n",
        "def is_vr_image(image):\n",
        "  # Check if the image resolution is high enough.\n",
        "  if image.shape[0] < 1024 or image.shape[1] < 1024:\n",
        "    return False\n",
        "\n",
        "  return True\n",
        "\n",
        "def is_ai_generated_image(image):\n",
        "  # Check if the image has a synthetic look and feel.\n",
        "  if image.mean() > 255:\n",
        "    return True\n",
        "\n",
        "  return False\n",
        "\n",
        "def is_mixed_reality_image(image):\n",
        "  return is_ar_image(image) or is_vr_image(image) or is_ai_generated_image(image)\n",
        "\n",
        "#def main():\n",
        "  # Read the image.\n",
        "  #image = cv2.imread('/content/drive/MyDrive/IMG-2909.jpg')\n",
        "\n",
        "  # Convert the image to RGB.\n",
        "  #image = cv2.cvtColor(image, cv2.COLOR_BGR2RGB)\n",
        "\n",
        "  # Check if the image is AR, VR, AI generated, or mixed reality content.\n",
        "  if is_ar_image(image):\n",
        "    print('The image is an AR image.')\n",
        "  elif is_vr_image(image):\n",
        "    print('The image is a VR image.')\n",
        "  elif is_ai_generated_image(image):\n",
        "    print('The image is an AI generated image.')\n",
        "  elif is_mixed_reality_image(image):\n",
        "    print('The image is a mixed reality image.')\n",
        "  else:\n",
        "    print('The image is not AR, VR, AI generated, or mixed reality content.')\n",
        "\n",
        "if __name__ == '__main__':\n",
        "  main()"
      ]
    }
  ]
}