{
  "nbformat": 4,
  "nbformat_minor": 0,
  "metadata": {
    "colab": {
      "provenance": [],
      "authorship_tag": "ABX9TyMxEiJeqkIaQ+Ozh7DcjSnr",
      "include_colab_link": true
    },
    "kernelspec": {
      "name": "python3",
      "display_name": "Python 3"
    },
    "language_info": {
      "name": "python"
    }
  },
  "cells": [
    {
      "cell_type": "markdown",
      "metadata": {
        "id": "view-in-github",
        "colab_type": "text"
      },
      "source": [
        "<a href=\"https://colab.research.google.com/github/SOwens-Create/BabyPython/blob/master/Pie_Budget_Program.ipynb\" target=\"_parent\"><img src=\"https://colab.research.google.com/assets/colab-badge.svg\" alt=\"Open In Colab\"/></a>"
      ]
    },
    {
      "cell_type": "code",
      "execution_count": null,
      "metadata": {
        "id": "mHpAZjQzDDKK"
      },
      "outputs": [],
      "source": [
        "def main():\n",
        "  OverallBudget = 5000\n",
        "  selection = 0\n",
        "  while selection != '4':\n",
        "    print (' 1 = Add on Expense')\n",
        "    print (' 2 = Subtract the Expense')\n",
        "    print (' 3 = Add on Revenue')\n",
        "    print (' 4 = Subtract Revenue')\n",
        "    print (' 5 = End')\n",
        "\n",
        "    selection = int(input())\n",
        "\n",
        "    if selection == 1:\n",
        "       OverallBudget = additionofexpense(OverallBudget)\n",
        "    elif selection == 2:\n",
        "       OverallBudget = subtractioinofexpense(OverallBudget)\n",
        "    elif selection == 3:\n",
        "       OverallBudget = additionofRevenue(OverallBudget)\n",
        "    elif selection == 4:\n",
        "       OverallBudget = subtractionofRevenue(OverallBudget)\n",
        "    elif selection == 5:\n",
        "       print ('Thank You')\n",
        "       break\n",
        "    else:\n",
        "       print('Wrong entry, choose any other option')\n",
        "\n",
        " #Addition for expenses\n",
        "\n",
        " def additionofexpenses(OverallBudget):\n",
        "    billing = int(input('Please Enter The Expense Amount:'))\n",
        "    manyBill = int(input('Please Enter Frequency of the Expense per Month:'))\n",
        "    completebill = billing * manyBill\n",
        "    OverallBudget = OverallBudget - completebill\n",
        "    checkonBudget(OverallBudget)\n",
        "    return OverallBudget\n",
        "\n",
        " #Subtract the expenses\n",
        "\n",
        " def subtractionofexpenses(OverallBudget):\n",
        "    lessBill = int(input('Please enter the amount to be subtracted: '))\n",
        "    manyLess = int(input('Please Enter the frequency of the Expense subtracted'))\n",
        "    totalLess = lessBill * manyLess\n",
        "    if totalLess <= (OverallBudget):\n",
        "      OverallBudget = OverallBudget + totalLess\n",
        "      checkonBudget(OverallBudget)\n",
        "\n",
        "    else: \n",
        "       print('Please re-check the amounts enetered')\n",
        "       return OverallBudget\n",
        "\n",
        " #Addition of Revenue\n",
        "\n",
        " def additionofRevenue(OverallBudget):\n",
        "    income = int(input('Please Enter the amount of additional income: '))\n",
        "    OverallBudget = OverallBudget + income\n",
        "    checkonBudget(OverallBudget)\n",
        "\n",
        " def subtractionofRevenue(OverallBudget):\n",
        "     lossincome = int(input('Please Enter the amount of income to be removed'))\n",
        "     OverallBudget = OverallBudget - lossincome\n",
        "     checkonBudget(OverallBudget)\n",
        "     return OverallBudget\n",
        "\n",
        " #checks and reports balances:\n",
        "\n",
        " def checkonBudget(OverallBudget):\n",
        "    if OverallBudget >= 0:\n",
        "      print ('The Overall remaining budget is: ', OverallBudget)\n",
        "    else:\n",
        "      print ('You have exceeded the monthly budget')\n",
        "      print ('Re-evaluate your expenses and balance the budget')\n",
        "      print ('Current balance: ', OverallBudget)\n",
        "\n",
        " main()                             "
      ]
    }
  ]
}