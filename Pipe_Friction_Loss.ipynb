{
  "nbformat": 4,
  "nbformat_minor": 0,
  "metadata": {
    "colab": {
      "provenance": [],
      "mount_file_id": "12uIv89MiTtl3Fd_eT6oukYlyBOBB8uRZ",
      "authorship_tag": "ABX9TyNVD3Qmh0HByVUJn+YI332d",
      "include_colab_link": true
    },
    "kernelspec": {
      "name": "python3",
      "display_name": "Python 3"
    },
    "language_info": {
      "name": "python"
    }
  },
  "cells": [
    {
      "cell_type": "markdown",
      "metadata": {
        "id": "view-in-github",
        "colab_type": "text"
      },
      "source": [
        "<a href=\"https://colab.research.google.com/github/SOwens-Create/BabyPython/blob/master/Pipe_Friction_Loss.ipynb\" target=\"_parent\"><img src=\"https://colab.research.google.com/assets/colab-badge.svg\" alt=\"Open In Colab\"/></a>"
      ]
    },
    {
      "cell_type": "code",
      "execution_count": 17,
      "metadata": {
        "colab": {
          "base_uri": "https://localhost:8080/",
          "height": 635
        },
        "id": "TQGB9ikDdC_C",
        "outputId": "b5662784-ece6-4a75-d780-d33d51a97ed6"
      },
      "outputs": [
        {
          "output_type": "stream",
          "name": "stdout",
          "text": [
            "Enter Nominal Pipe Size in Inches:8\n",
            "8\n",
            "Enter Volumetric Flow Rate (gpm):1065\n",
            "1065\n",
            "Fluid Velocity in ft/s: 6.801577029190368\n",
            "Enter Component Types from the Following Options-Type 18 when finished:\n",
            "1 Butterfly Valve\n",
            "2 Swing Check Valve\n",
            "4 Ball Valve\n",
            "5 Angle Valve\n",
            "6 Globe Valve\n",
            "7 Gate Valve\n",
            "8 Standard 90 Degree Elbow\n",
            "9 Street 90 Degree Elbow\n",
            "10 Long 90 Degree Elbow\n",
            "11 Standard 45 Degree Elbow\n",
            "12 Street 45 Degree Elbow\n",
            "13 Standard 180 Degree Elbow\n",
            "14 Flow Through Branch\n",
            "15 Straight-Thru Branch (No Reduction)\n",
            "16 Straight-Thru Branch (1/4-3/4)\n",
            "17 Straight-Thru Branch (1/2-1/2)\n",
            "18 All fittings have been entered\n"
          ]
        },
        {
          "output_type": "error",
          "ename": "NameError",
          "evalue": "ignored",
          "traceback": [
            "\u001b[0;31m---------------------------------------------------------------------------\u001b[0m",
            "\u001b[0;31mNameError\u001b[0m                                 Traceback (most recent call last)",
            "\u001b[0;32m<ipython-input-17-98742a34b04d>\u001b[0m in \u001b[0;36m<module>\u001b[0;34m\u001b[0m\n\u001b[1;32m     70\u001b[0m \u001b[0;34m\u001b[0m\u001b[0m\n\u001b[1;32m     71\u001b[0m \u001b[0;31m#Iterative statement for entering additional table options\u001b[0m\u001b[0;34m\u001b[0m\u001b[0;34m\u001b[0m\u001b[0m\n\u001b[0;32m---> 72\u001b[0;31m \u001b[0;32mwhile\u001b[0m \u001b[0mComp\u001b[0m \u001b[0;32min\u001b[0m \u001b[0mcomponent_input\u001b[0m\u001b[0;34m(\u001b[0m\u001b[0;34m**\u001b[0m\u001b[0mkwargs\u001b[0m\u001b[0;34m)\u001b[0m\u001b[0;34m<=\u001b[0m\u001b[0;36m17\u001b[0m \u001b[0;32mand\u001b[0m \u001b[0mQuantity\u001b[0m \u001b[0;32min\u001b[0m \u001b[0mquantity_input\u001b[0m\u001b[0;34m(\u001b[0m\u001b[0;34m*\u001b[0m\u001b[0margs\u001b[0m\u001b[0;34m)\u001b[0m\u001b[0;34m>=\u001b[0m\u001b[0;36m0\u001b[0m\u001b[0;34m:\u001b[0m\u001b[0;34m\u001b[0m\u001b[0;34m\u001b[0m\u001b[0m\n\u001b[0m\u001b[1;32m     73\u001b[0m  \u001b[0;32mif\u001b[0m \u001b[0mComp\u001b[0m \u001b[0;32min\u001b[0m \u001b[0mcomponent_input\u001b[0m\u001b[0;34m(\u001b[0m\u001b[0;34m**\u001b[0m\u001b[0mkwargs\u001b[0m\u001b[0;34m)\u001b[0m\u001b[0;34m<=\u001b[0m\u001b[0;36m17\u001b[0m \u001b[0;32mand\u001b[0m \u001b[0mQuantity\u001b[0m \u001b[0;32min\u001b[0m \u001b[0mquantity_input\u001b[0m\u001b[0;34m(\u001b[0m\u001b[0;34m*\u001b[0m\u001b[0margs\u001b[0m\u001b[0;34m)\u001b[0m\u001b[0;34m>=\u001b[0m\u001b[0;36m0\u001b[0m\u001b[0;34m:\u001b[0m\u001b[0;34m\u001b[0m\u001b[0;34m\u001b[0m\u001b[0m\n\u001b[1;32m     74\u001b[0m     \u001b[0mEntry\u001b[0m\u001b[0;34m=\u001b[0m\u001b[0;34m{\u001b[0m\u001b[0mComp\u001b[0m\u001b[0;34m:\u001b[0m\u001b[0mQuantity\u001b[0m\u001b[0;34m}\u001b[0m\u001b[0;34m\u001b[0m\u001b[0;34m\u001b[0m\u001b[0m\n",
            "\u001b[0;31mNameError\u001b[0m: name 'Comp' is not defined"
          ]
        }
      ],
      "source": [
        "#Import data from Drive\n",
        "#Excel add-in or charts direct to notebook\n",
        "import pandas as pd\n",
        "import io\n",
        "\n",
        "#Import Ethylene Glycol and Temperature Properties\n",
        "EG_Data=pd.read_csv('/content/drive/MyDrive/1_HFFluid_Property_Tables/Ethylene_Glycol_and_Temperature_Properties.csv')\n",
        "\n",
        "#Import Fuel Oil and Temperature Data\n",
        "FO_Data=pd.read_csv('/content/drive/MyDrive/1_HFFluid_Property_Tables/Fuel_Oil_and_Temperature_Properties.csv')\n",
        "\n",
        "#Import Pipe Diameter and Fitting Losses Fuel Oil\n",
        "PD_FO_Data=pd.read_csv('/content/drive/MyDrive/1_HFFluid_Property_Tables/Pipe_Diameter_and_Fitting_Losses_Fuel_Oil.csv')\n",
        "\n",
        "#Import Pipe Diameter and Fitting Losses H20\n",
        "PD_H2O_Data=pd.read_csv('/content/drive/MyDrive/1_HFFluid_Property_Tables/Pipe_Diameter_and_Fitting_Losses _Water.csv')\n",
        "\n",
        "#Propylene Glycol and Temperature Data\n",
        "PG_Data=pd.read_csv('/content/drive/MyDrive/1_HFFluid_Property_Tables/Propylene_Glycol_and_Temperature_Properties.csv')\n",
        "\n",
        "#Water and Temperature Properties\n",
        "H20_Data=pd.read_csv('/content/drive/MyDrive/1_HFFluid_Property_Tables/Water_and_Temperature_Properties.csv')\n",
        "\n",
        "#Import Fuel Oil Number Two Viscosity Data - An issue with 0x0b in the 15th position of this file\n",
        "#FO2_Data=pd.read_csv('/content/drive/MyDrive/1_HFFluid_Property_Tables/Fuel_Oil_Number_Two_Viscosity_Table_32_Degree.csv')\n",
        "\n",
        "\n",
        "#Step one, allow user to input variables.\n",
        "#Enter Pipe Size in Inches\n",
        "D=int(input('Enter Nominal Pipe Size in Inches:'))\n",
        "print(D)\n",
        "\n",
        "#Enter Volumetric Flow Rate in gpm\n",
        "Q=int(input('Enter Volumetric Flow Rate (gpm):'))\n",
        "print(Q)\n",
        "\n",
        "#Calculate the Radius and Area\n",
        "R=(D/12)/2\n",
        "A=3.14*(R**2)\n",
        "V=(Q*(1/(60*7.48)))/A\n",
        "\n",
        "#Print the Fluid Velocity in ft/s\n",
        "print('Fluid Velocity in ft/s:', V)\n",
        "\n",
        "#Enter Valve Types\n",
        "print('Enter Component Types from the Following Options-Type 18 when finished:')\n",
        "print('1 Butterfly Valve')\n",
        "print('2 Swing Check Valve')\n",
        "print('4 Ball Valve')\n",
        "print('5 Angle Valve')\n",
        "print('6 Globe Valve')\n",
        "print('7 Gate Valve')\n",
        "print('8 Standard 90 Degree Elbow')\n",
        "print('9 Street 90 Degree Elbow')\n",
        "print('10 Long 90 Degree Elbow')\n",
        "print('11 Standard 45 Degree Elbow')\n",
        "print('12 Street 45 Degree Elbow')\n",
        "print('13 Standard 180 Degree Elbow')\n",
        "print('14 Flow Through Branch')\n",
        "print('15 Straight-Thru Branch (No Reduction)')\n",
        "print('16 Straight-Thru Branch (1/4-3/4)')\n",
        "print('17 Straight-Thru Branch (1/2-1/2)')\n",
        "print('18 All fittings have been entered')\n",
        "\n",
        "#Define initial entries from table options\n",
        "def component_input(**kwargs):\n",
        "  Comp=component_input.kwargs(int(input('Enter the Type of Component:')))\n",
        "def quantity_input(*args):\n",
        "  Quantity=quantity_input.args(int(input('Enter the Number of this Type:')))\n",
        "\n",
        "#Iterative statement for entering additional table options\n",
        "while Comp in component_input(**kwargs)<=17 and Quantity in quantity_input(*args)>=0:\n",
        " if Comp in component_input(**kwargs)<=17 and Quantity in quantity_input(*args)>=0:\n",
        "    Entry={Comp:Quantity}\n",
        " elif Comp in component_input(**kwargs)==18 and Quantity in quantity_input(*args)==0:\n",
        "    print('Finished Entering Components')\n",
        "    print('Components Entered:')\n",
        "    print(Entry)\n",
        " else:\n",
        "    print('Enter a Valid Component Option.')\n",
        "\n",
        "#Enter Pipe Length in ft\n",
        "#Lp=int(input('Enter Pipe Length for Enter Run (ft):'))\n",
        "#Reference friction losses per 100 ft\n",
        "#print(Lp)\n",
        "\n",
        "#Enter any Custom Components and their losses in ft\n",
        "\n",
        "\n",
        "\n"
      ]
    }
  ]
}