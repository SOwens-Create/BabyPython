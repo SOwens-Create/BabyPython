{
  "cells": [
    {
      "cell_type": "markdown",
      "metadata": {
        "id": "view-in-github",
        "colab_type": "text"
      },
      "source": [
        "<a href=\"https://colab.research.google.com/github/SOwens-Create/BabyPython/blob/master/FullCode_Additional_FMST_Project_LearnerNotebook_SOWENS_EmployeePromotion.ipynb\" target=\"_parent\"><img src=\"https://colab.research.google.com/assets/colab-badge.svg\" alt=\"Open In Colab\"/></a>"
      ]
    },
    {
      "cell_type": "markdown",
      "source": [
        "## Problem Statement"
      ],
      "metadata": {
        "id": "9EaJ8AGwpM-2"
      }
    },
    {
      "cell_type": "markdown",
      "metadata": {
        "id": "6cAxyUwDWt9P"
      },
      "source": [
        "### Business context\n",
        "\n",
        "Employee Promotion means the ascension of an employee to higher ranks, this aspect of the job is what drives employees the most. The ultimate reward for dedication and loyalty towards an organization and the HR team plays an important role in handling all these promotion tasks based on ratings and other attributes available.\n",
        "\n",
        "The HR team in JMD company stored data on the promotion cycle last year, which consists of details of all the employees in the company working last year and also if they got promoted or not, but every time this process gets delayed due to so many details available for each employee - it gets difficult to compare and decide.\n",
        "\n",
        "\n",
        "### Objective\n",
        "\n",
        "For the upcoming appraisal cycle, the HR team wants to utilize the stored data and leverage machine learning to make a model that will predict if a person is eligible for promotion or not. You, as a data scientist at JMD company, need to come up with the best possible model that will help the HR team to predict if a person is eligible for promotion or not.\n",
        "\n",
        "\n",
        "### Data Description\n",
        "\n",
        "- employee_id: Unique ID for the employee\n",
        "- department: Department of employee\n",
        "- region: Region of employment (unordered)\n",
        "- education: Education Level\n",
        "- gender: Gender of Employee\n",
        "- recruitment_channel: Channel of recruitment for employee\n",
        "- no_ of_ trainings: no of other training completed in the previous year on soft skills, technical skills, etc.\n",
        "- age: Age of Employee\n",
        "- previous_ year_ rating: Employee Rating for the previous year\n",
        "- length_ of_ service: Length of service in years\n",
        "- awards_ won: if awards won during the previous year then 1 else 0\n",
        "- avg_ training_ score: Average score in current training evaluations\n",
        "- is_promoted: (Target) Recommended for promotion"
      ]
    },
    {
      "cell_type": "markdown",
      "metadata": {
        "id": "v_-uuGqH-qTt"
      },
      "source": [
        "## Importing necessary libraries"
      ]
    },
    {
      "cell_type": "code",
      "execution_count": 90,
      "metadata": {
        "id": "83D17_Wl4jal"
      },
      "outputs": [],
      "source": [
        "#Import libraries for dataframe methods\n",
        "import pandas as pd\n",
        "import numpy as np\n",
        "from sklearn import metrics\n",
        "from sklearn import linear_model\n",
        "from sklearn.metrics import mean_squared_error, r2_score\n",
        "from sklearn.model_selection import train_test_split\n",
        "from sklearn.model_selection import RandomizedSearchCV\n",
        "from sklearn.linear_model import LinearRegression\n",
        "from sklearn.linear_model import LogisticRegression\n",
        "from sklearn.linear_model import LogisticRegressionCV\n",
        "from sklearn.tree import DecisionTreeClassifier\n",
        "from sklearn.model_selection import GridSearchCV\n",
        "from sklearn.ensemble import BaggingClassifier, RandomForestClassifier, AdaBoostClassifier\n",
        "from sklearn.ensemble import GradientBoostingClassifier, StackingClassifier\n",
        "from xgboost import XGBClassifier\n",
        "from sklearn import tree\n",
        "from os import system\n",
        "from statistics import mean\n",
        "from sklearn.preprocessing import PolynomialFeatures\n",
        "from sklearn.impute import SimpleImputer\n",
        "from sklearn.metrics import accuracy_score\n",
        "from sklearn.metrics import f1_score\n",
        "from sklearn.metrics import precision_score\n",
        "from sklearn.metrics import recall_score\n",
        "from sklearn.metrics import classification_report\n",
        "from sklearn.metrics import confusion_matrix\n",
        "\n",
        "#Oversampling Library\n",
        "from imblearn.over_sampling import SMOTE\n",
        "\n",
        "#Undersampling Library\n",
        "from imblearn.under_sampling import RandomUnderSampler\n",
        "\n",
        "#Import libraries for visualization\n",
        "import matplotlib.pyplot as plt\n",
        "import seaborn as sns\n",
        "from IPython.display import Image\n",
        "import plotly.express as px"
      ]
    },
    {
      "cell_type": "markdown",
      "metadata": {
        "id": "xxhpZv9y-qTw"
      },
      "source": [
        "## Loading the dataset"
      ]
    },
    {
      "cell_type": "code",
      "source": [
        "#Mounting the Google Drive\n",
        "from google.colab import drive\n",
        "drive.mount('/content/drive')"
      ],
      "metadata": {
        "colab": {
          "base_uri": "https://localhost:8080/"
        },
        "id": "WXla9RRS5T4X",
        "outputId": "08c416b4-4a93-4609-c949-ef0328bf6148"
      },
      "execution_count": 28,
      "outputs": [
        {
          "output_type": "stream",
          "name": "stdout",
          "text": [
            "Drive already mounted at /content/drive; to attempt to forcibly remount, call drive.mount(\"/content/drive\", force_remount=True).\n"
          ]
        }
      ]
    },
    {
      "cell_type": "code",
      "source": [
        "#Reading the dataset\n",
        "df=pd.read_csv('/content/drive/MyDrive/Machine_Learning_and_AI_Class/employee_promotion.csv')"
      ],
      "metadata": {
        "id": "8AHknxbE5dqb"
      },
      "execution_count": 29,
      "outputs": []
    },
    {
      "cell_type": "markdown",
      "metadata": {
        "id": "UvpMDcaaMKtI"
      },
      "source": [
        "## Data Overview"
      ]
    },
    {
      "cell_type": "markdown",
      "source": [
        "- Observations\n",
        "- Sanity checks"
      ],
      "metadata": {
        "id": "tIiCRwqZ54_C"
      }
    },
    {
      "cell_type": "code",
      "execution_count": 30,
      "metadata": {
        "id": "01hJQ7EfMKtK",
        "colab": {
          "base_uri": "https://localhost:8080/",
          "height": 278
        },
        "outputId": "25eb011e-d6a5-4e74-b6f2-ece74246a57a"
      },
      "outputs": [
        {
          "output_type": "execute_result",
          "data": {
            "text/plain": [
              "   employee_id         department     region         education gender  \\\n",
              "0        65438  Sales & Marketing   region_7  Master's & above      f   \n",
              "1        65141         Operations  region_22        Bachelor's      m   \n",
              "2         7513  Sales & Marketing  region_19        Bachelor's      m   \n",
              "3         2542  Sales & Marketing  region_23        Bachelor's      m   \n",
              "4        48945         Technology  region_26        Bachelor's      m   \n",
              "\n",
              "  recruitment_channel  no_of_trainings  age  previous_year_rating  \\\n",
              "0            sourcing                1   35                   5.0   \n",
              "1               other                1   30                   5.0   \n",
              "2            sourcing                1   34                   3.0   \n",
              "3               other                2   39                   1.0   \n",
              "4               other                1   45                   3.0   \n",
              "\n",
              "   length_of_service  awards_won  avg_training_score  is_promoted  \n",
              "0                  8           0                49.0            0  \n",
              "1                  4           0                60.0            0  \n",
              "2                  7           0                50.0            0  \n",
              "3                 10           0                50.0            0  \n",
              "4                  2           0                73.0            0  "
            ],
            "text/html": [
              "\n",
              "  <div id=\"df-a1612737-ee9b-49e1-9c83-6e45c97cdfb7\" class=\"colab-df-container\">\n",
              "    <div>\n",
              "<style scoped>\n",
              "    .dataframe tbody tr th:only-of-type {\n",
              "        vertical-align: middle;\n",
              "    }\n",
              "\n",
              "    .dataframe tbody tr th {\n",
              "        vertical-align: top;\n",
              "    }\n",
              "\n",
              "    .dataframe thead th {\n",
              "        text-align: right;\n",
              "    }\n",
              "</style>\n",
              "<table border=\"1\" class=\"dataframe\">\n",
              "  <thead>\n",
              "    <tr style=\"text-align: right;\">\n",
              "      <th></th>\n",
              "      <th>employee_id</th>\n",
              "      <th>department</th>\n",
              "      <th>region</th>\n",
              "      <th>education</th>\n",
              "      <th>gender</th>\n",
              "      <th>recruitment_channel</th>\n",
              "      <th>no_of_trainings</th>\n",
              "      <th>age</th>\n",
              "      <th>previous_year_rating</th>\n",
              "      <th>length_of_service</th>\n",
              "      <th>awards_won</th>\n",
              "      <th>avg_training_score</th>\n",
              "      <th>is_promoted</th>\n",
              "    </tr>\n",
              "  </thead>\n",
              "  <tbody>\n",
              "    <tr>\n",
              "      <th>0</th>\n",
              "      <td>65438</td>\n",
              "      <td>Sales &amp; Marketing</td>\n",
              "      <td>region_7</td>\n",
              "      <td>Master's &amp; above</td>\n",
              "      <td>f</td>\n",
              "      <td>sourcing</td>\n",
              "      <td>1</td>\n",
              "      <td>35</td>\n",
              "      <td>5.0</td>\n",
              "      <td>8</td>\n",
              "      <td>0</td>\n",
              "      <td>49.0</td>\n",
              "      <td>0</td>\n",
              "    </tr>\n",
              "    <tr>\n",
              "      <th>1</th>\n",
              "      <td>65141</td>\n",
              "      <td>Operations</td>\n",
              "      <td>region_22</td>\n",
              "      <td>Bachelor's</td>\n",
              "      <td>m</td>\n",
              "      <td>other</td>\n",
              "      <td>1</td>\n",
              "      <td>30</td>\n",
              "      <td>5.0</td>\n",
              "      <td>4</td>\n",
              "      <td>0</td>\n",
              "      <td>60.0</td>\n",
              "      <td>0</td>\n",
              "    </tr>\n",
              "    <tr>\n",
              "      <th>2</th>\n",
              "      <td>7513</td>\n",
              "      <td>Sales &amp; Marketing</td>\n",
              "      <td>region_19</td>\n",
              "      <td>Bachelor's</td>\n",
              "      <td>m</td>\n",
              "      <td>sourcing</td>\n",
              "      <td>1</td>\n",
              "      <td>34</td>\n",
              "      <td>3.0</td>\n",
              "      <td>7</td>\n",
              "      <td>0</td>\n",
              "      <td>50.0</td>\n",
              "      <td>0</td>\n",
              "    </tr>\n",
              "    <tr>\n",
              "      <th>3</th>\n",
              "      <td>2542</td>\n",
              "      <td>Sales &amp; Marketing</td>\n",
              "      <td>region_23</td>\n",
              "      <td>Bachelor's</td>\n",
              "      <td>m</td>\n",
              "      <td>other</td>\n",
              "      <td>2</td>\n",
              "      <td>39</td>\n",
              "      <td>1.0</td>\n",
              "      <td>10</td>\n",
              "      <td>0</td>\n",
              "      <td>50.0</td>\n",
              "      <td>0</td>\n",
              "    </tr>\n",
              "    <tr>\n",
              "      <th>4</th>\n",
              "      <td>48945</td>\n",
              "      <td>Technology</td>\n",
              "      <td>region_26</td>\n",
              "      <td>Bachelor's</td>\n",
              "      <td>m</td>\n",
              "      <td>other</td>\n",
              "      <td>1</td>\n",
              "      <td>45</td>\n",
              "      <td>3.0</td>\n",
              "      <td>2</td>\n",
              "      <td>0</td>\n",
              "      <td>73.0</td>\n",
              "      <td>0</td>\n",
              "    </tr>\n",
              "  </tbody>\n",
              "</table>\n",
              "</div>\n",
              "    <div class=\"colab-df-buttons\">\n",
              "\n",
              "  <div class=\"colab-df-container\">\n",
              "    <button class=\"colab-df-convert\" onclick=\"convertToInteractive('df-a1612737-ee9b-49e1-9c83-6e45c97cdfb7')\"\n",
              "            title=\"Convert this dataframe to an interactive table.\"\n",
              "            style=\"display:none;\">\n",
              "\n",
              "  <svg xmlns=\"http://www.w3.org/2000/svg\" height=\"24px\" viewBox=\"0 -960 960 960\">\n",
              "    <path d=\"M120-120v-720h720v720H120Zm60-500h600v-160H180v160Zm220 220h160v-160H400v160Zm0 220h160v-160H400v160ZM180-400h160v-160H180v160Zm440 0h160v-160H620v160ZM180-180h160v-160H180v160Zm440 0h160v-160H620v160Z\"/>\n",
              "  </svg>\n",
              "    </button>\n",
              "\n",
              "  <style>\n",
              "    .colab-df-container {\n",
              "      display:flex;\n",
              "      gap: 12px;\n",
              "    }\n",
              "\n",
              "    .colab-df-convert {\n",
              "      background-color: #E8F0FE;\n",
              "      border: none;\n",
              "      border-radius: 50%;\n",
              "      cursor: pointer;\n",
              "      display: none;\n",
              "      fill: #1967D2;\n",
              "      height: 32px;\n",
              "      padding: 0 0 0 0;\n",
              "      width: 32px;\n",
              "    }\n",
              "\n",
              "    .colab-df-convert:hover {\n",
              "      background-color: #E2EBFA;\n",
              "      box-shadow: 0px 1px 2px rgba(60, 64, 67, 0.3), 0px 1px 3px 1px rgba(60, 64, 67, 0.15);\n",
              "      fill: #174EA6;\n",
              "    }\n",
              "\n",
              "    .colab-df-buttons div {\n",
              "      margin-bottom: 4px;\n",
              "    }\n",
              "\n",
              "    [theme=dark] .colab-df-convert {\n",
              "      background-color: #3B4455;\n",
              "      fill: #D2E3FC;\n",
              "    }\n",
              "\n",
              "    [theme=dark] .colab-df-convert:hover {\n",
              "      background-color: #434B5C;\n",
              "      box-shadow: 0px 1px 3px 1px rgba(0, 0, 0, 0.15);\n",
              "      filter: drop-shadow(0px 1px 2px rgba(0, 0, 0, 0.3));\n",
              "      fill: #FFFFFF;\n",
              "    }\n",
              "  </style>\n",
              "\n",
              "    <script>\n",
              "      const buttonEl =\n",
              "        document.querySelector('#df-a1612737-ee9b-49e1-9c83-6e45c97cdfb7 button.colab-df-convert');\n",
              "      buttonEl.style.display =\n",
              "        google.colab.kernel.accessAllowed ? 'block' : 'none';\n",
              "\n",
              "      async function convertToInteractive(key) {\n",
              "        const element = document.querySelector('#df-a1612737-ee9b-49e1-9c83-6e45c97cdfb7');\n",
              "        const dataTable =\n",
              "          await google.colab.kernel.invokeFunction('convertToInteractive',\n",
              "                                                    [key], {});\n",
              "        if (!dataTable) return;\n",
              "\n",
              "        const docLinkHtml = 'Like what you see? Visit the ' +\n",
              "          '<a target=\"_blank\" href=https://colab.research.google.com/notebooks/data_table.ipynb>data table notebook</a>'\n",
              "          + ' to learn more about interactive tables.';\n",
              "        element.innerHTML = '';\n",
              "        dataTable['output_type'] = 'display_data';\n",
              "        await google.colab.output.renderOutput(dataTable, element);\n",
              "        const docLink = document.createElement('div');\n",
              "        docLink.innerHTML = docLinkHtml;\n",
              "        element.appendChild(docLink);\n",
              "      }\n",
              "    </script>\n",
              "  </div>\n",
              "\n",
              "\n",
              "<div id=\"df-e12851df-5610-4f3a-8f76-65303cca6750\">\n",
              "  <button class=\"colab-df-quickchart\" onclick=\"quickchart('df-e12851df-5610-4f3a-8f76-65303cca6750')\"\n",
              "            title=\"Suggest charts.\"\n",
              "            style=\"display:none;\">\n",
              "\n",
              "<svg xmlns=\"http://www.w3.org/2000/svg\" height=\"24px\"viewBox=\"0 0 24 24\"\n",
              "     width=\"24px\">\n",
              "    <g>\n",
              "        <path d=\"M19 3H5c-1.1 0-2 .9-2 2v14c0 1.1.9 2 2 2h14c1.1 0 2-.9 2-2V5c0-1.1-.9-2-2-2zM9 17H7v-7h2v7zm4 0h-2V7h2v10zm4 0h-2v-4h2v4z\"/>\n",
              "    </g>\n",
              "</svg>\n",
              "  </button>\n",
              "\n",
              "<style>\n",
              "  .colab-df-quickchart {\n",
              "    background-color: #E8F0FE;\n",
              "    border: none;\n",
              "    border-radius: 50%;\n",
              "    cursor: pointer;\n",
              "    display: none;\n",
              "    fill: #1967D2;\n",
              "    height: 32px;\n",
              "    padding: 0 0 0 0;\n",
              "    width: 32px;\n",
              "  }\n",
              "\n",
              "  .colab-df-quickchart:hover {\n",
              "    background-color: #E2EBFA;\n",
              "    box-shadow: 0px 1px 2px rgba(60, 64, 67, 0.3), 0px 1px 3px 1px rgba(60, 64, 67, 0.15);\n",
              "    fill: #174EA6;\n",
              "  }\n",
              "\n",
              "  [theme=dark] .colab-df-quickchart {\n",
              "    background-color: #3B4455;\n",
              "    fill: #D2E3FC;\n",
              "  }\n",
              "\n",
              "  [theme=dark] .colab-df-quickchart:hover {\n",
              "    background-color: #434B5C;\n",
              "    box-shadow: 0px 1px 3px 1px rgba(0, 0, 0, 0.15);\n",
              "    filter: drop-shadow(0px 1px 2px rgba(0, 0, 0, 0.3));\n",
              "    fill: #FFFFFF;\n",
              "  }\n",
              "</style>\n",
              "\n",
              "  <script>\n",
              "    async function quickchart(key) {\n",
              "      const charts = await google.colab.kernel.invokeFunction(\n",
              "          'suggestCharts', [key], {});\n",
              "    }\n",
              "    (() => {\n",
              "      let quickchartButtonEl =\n",
              "        document.querySelector('#df-e12851df-5610-4f3a-8f76-65303cca6750 button');\n",
              "      quickchartButtonEl.style.display =\n",
              "        google.colab.kernel.accessAllowed ? 'block' : 'none';\n",
              "    })();\n",
              "  </script>\n",
              "</div>\n",
              "    </div>\n",
              "  </div>\n"
            ]
          },
          "metadata": {},
          "execution_count": 30
        }
      ],
      "source": [
        "#Using the head method to see the first 5 rows of data\n",
        "#Data is categorical and continuous.\n",
        "#Several columns will need to be categorized.\n",
        "#It is not immediatel known whether the employee ID is\n",
        "#a relevant category.\n",
        "df.head()"
      ]
    },
    {
      "cell_type": "code",
      "source": [
        "#Using the info method to get an overview of\n",
        "#null objects, value counts, and datatypes.\n",
        "#The education, previous year rating, and\n",
        "#avg_training_score columns have null values.\n",
        "df.info()"
      ],
      "metadata": {
        "colab": {
          "base_uri": "https://localhost:8080/"
        },
        "id": "IH9OUtZV7BRf",
        "outputId": "142290e8-163d-45b6-bb11-5922c8a37462"
      },
      "execution_count": 31,
      "outputs": [
        {
          "output_type": "stream",
          "name": "stdout",
          "text": [
            "<class 'pandas.core.frame.DataFrame'>\n",
            "RangeIndex: 54808 entries, 0 to 54807\n",
            "Data columns (total 13 columns):\n",
            " #   Column                Non-Null Count  Dtype  \n",
            "---  ------                --------------  -----  \n",
            " 0   employee_id           54808 non-null  int64  \n",
            " 1   department            54808 non-null  object \n",
            " 2   region                54808 non-null  object \n",
            " 3   education             52399 non-null  object \n",
            " 4   gender                54808 non-null  object \n",
            " 5   recruitment_channel   54808 non-null  object \n",
            " 6   no_of_trainings       54808 non-null  int64  \n",
            " 7   age                   54808 non-null  int64  \n",
            " 8   previous_year_rating  50684 non-null  float64\n",
            " 9   length_of_service     54808 non-null  int64  \n",
            " 10  awards_won            54808 non-null  int64  \n",
            " 11  avg_training_score    52248 non-null  float64\n",
            " 12  is_promoted           54808 non-null  int64  \n",
            "dtypes: float64(2), int64(6), object(5)\n",
            "memory usage: 5.4+ MB\n"
          ]
        }
      ]
    },
    {
      "cell_type": "code",
      "source": [
        "#The data has 54808 rows and 13 columns\n",
        "df.shape"
      ],
      "metadata": {
        "colab": {
          "base_uri": "https://localhost:8080/"
        },
        "id": "4jOvlQV09Ydn",
        "outputId": "46acec23-b295-4a32-972b-10e19c00fa04"
      },
      "execution_count": 32,
      "outputs": [
        {
          "output_type": "execute_result",
          "data": {
            "text/plain": [
              "(54808, 13)"
            ]
          },
          "metadata": {},
          "execution_count": 32
        }
      ]
    },
    {
      "cell_type": "markdown",
      "metadata": {
        "id": "j-yGG8LNSSMa"
      },
      "source": [
        "## Exploratory Data Analysis (EDA)"
      ]
    },
    {
      "cell_type": "markdown",
      "source": [
        "- EDA is an important part of any project involving data.\n",
        "- It is important to investigate and understand the data better before building a model with it.\n",
        "- A few questions have been mentioned below which will help you approach the analysis in the right manner and generate insights from the data.\n",
        "- A thorough analysis of the data, in addition to the questions mentioned below, should be done."
      ],
      "metadata": {
        "id": "3bGVKmh75ri8"
      }
    },
    {
      "cell_type": "markdown",
      "metadata": {
        "id": "oEyqzdJBb0jU"
      },
      "source": [
        "**Questions**:\n",
        "\n",
        "1. How is the distribution of average training score of  employee ?\n",
        "2. How is the distribution age of  employee ?\n",
        "3. How does the change in length of service (`length_of_service`) vary by the employee's promotion status (`is_promoted`)?\n",
        "4. How does the previous rating(`previous_year_rating`) vary by the employee's promotion status (`is_promoted`)?\n",
        "5. What are the attributes that have a strong correlation with each other?\n",
        "\n"
      ]
    },
    {
      "cell_type": "markdown",
      "metadata": {
        "id": "-YyWJgFlKlWM"
      },
      "source": [
        "#### The below functions need to be defined to carry out the Exploratory Data Analysis."
      ]
    },
    {
      "cell_type": "code",
      "metadata": {
        "id": "QIP4bI3Zbp07",
        "colab": {
          "base_uri": "https://localhost:8080/",
          "height": 544
        },
        "outputId": "af16cd61-fdd5-4645-9c3b-b260b4a6ebf7"
      },
      "source": [
        "#Using the function to plot a boxplot and a histogram along the same scale.\n",
        "#Question 1 - How is the distribution of average training score of employee?\n",
        "#The mean training score is approximately 64.\n",
        "#The median training score is approximately 60.\n",
        "\n",
        "def histogram_boxplot(df, avg_training_score, figsize=(12, 7), kde=False, bins=None):\n",
        "    \"\"\"\n",
        "    Boxplot and histogram combined\n",
        "\n",
        "    data: dataframe\n",
        "    feature: dataframe column\n",
        "    figsize: size of figure (default (12,7))\n",
        "    kde: whether to the show density curve (default False)\n",
        "    bins: number of bins for histogram (default None)\n",
        "    \"\"\"\n",
        "    f2, (ax_box2, ax_hist2) = plt.subplots(\n",
        "        nrows=2,  # Number of rows of the subplot grid= 2\n",
        "        sharex=True,  # x-axis will be shared among all subplots\n",
        "        gridspec_kw={\"height_ratios\": (0.25, 0.75)},\n",
        "        figsize=figsize,\n",
        "    )  # creating the 2 subplots\n",
        "    sns.boxplot(\n",
        "        data=df, x=avg_training_score, ax=ax_box2, showmeans=True, color=\"violet\"\n",
        "    )  # boxplot will be created and a triangle will indicate the mean value of the column\n",
        "    sns.histplot(\n",
        "        data=df, x=avg_training_score, kde=kde, ax=ax_hist2, bins=bins, palette=\"winter\"\n",
        "    ) if bins else sns.histplot(\n",
        "        data=df, x=avg_training_score, kde=kde, ax=ax_hist2\n",
        "    )  # For histogram\n",
        "    ax_hist2.axvline(\n",
        "        df['avg_training_score'].mean(), color=\"green\", linestyle=\"--\"\n",
        "    )  # Add mean to the histogram\n",
        "    ax_hist2.axvline(\n",
        "        df['avg_training_score'].median(), color=\"black\", linestyle=\"-\"\n",
        "    )  # Add median to the histogram\n",
        "\n",
        "histogram_boxplot(df, 'avg_training_score')"
      ],
      "execution_count": 33,
      "outputs": [
        {
          "output_type": "display_data",
          "data": {
            "text/plain": [
              "<Figure size 1200x700 with 2 Axes>"
            ],
            "image/png": "[encoded data removed]"
          },
          "metadata": {}
        }
      ]
    },
    {
      "cell_type": "code",
      "execution_count": 34,
      "metadata": {
        "id": "5021de33",
        "colab": {
          "base_uri": "https://localhost:8080/",
          "height": 139
        },
        "outputId": "c5c2e0bb-1a74-4663-aed4-f6e7bdd5ed27"
      },
      "outputs": [
        {
          "output_type": "display_data",
          "data": {
            "text/plain": [
              "<Figure size 4200x500 with 1 Axes>"
            ],
            "image/png": "[encoded data removed]"
          },
          "metadata": {}
        }
      ],
      "source": [
        "#Using function to create labeled barplots\n",
        "#Question 2 - How is the age distribution of the employee?\n",
        "#The majority of employees are approximately 30 years old.\n",
        "#The youngest employee is 20 years old.\n",
        "#The oldest employee is 60 years old.\n",
        "\n",
        "def labeled_barplot(df, age, perc=False, n=None):\n",
        "    \"\"\"\n",
        "    Barplot with percentage at the top\n",
        "\n",
        "    data: dataframe\n",
        "    feature: dataframe column\n",
        "    perc: whether to display percentages instead of count (default is False)\n",
        "    n: displays the top n category levels (default is None, i.e., display all levels)\n",
        "    \"\"\"\n",
        "\n",
        "    total = len(df['age'])  # length of the column\n",
        "    count = df['age'].nunique()\n",
        "    if n is None:\n",
        "        plt.figure(figsize=(count + 1, 5))\n",
        "    else:\n",
        "        plt.figure(figsize=(n + 1, 5))\n",
        "\n",
        "    plt.xticks(rotation=90, fontsize=15)\n",
        "    ax = sns.countplot(\n",
        "        data=df,\n",
        "        x=age,\n",
        "        palette=\"Paired\",\n",
        "        order=df['age'].value_counts().index[:n].sort_values(),\n",
        "    )\n",
        "\n",
        "    for p in ax.patches:\n",
        "        if perc == True:\n",
        "            label = \"{:.1f}%\".format(\n",
        "                100 * p.get_height() / total\n",
        "            )  # percentage of each class of the category\n",
        "        else:\n",
        "            label = p.get_height()  # count of each level of the category\n",
        "\n",
        "        x = p.get_x() + p.get_width() / 2  # width of the plot\n",
        "        y = p.get_height()  # height of the plot\n",
        "\n",
        "        ax.annotate(\n",
        "            label,\n",
        "            (x, y),\n",
        "            ha=\"center\",\n",
        "            va=\"center\",\n",
        "            size=12,\n",
        "            xytext=(0, 5),\n",
        "            textcoords=\"offset points\",\n",
        "        )  # annotate the percentage\n",
        "\n",
        "    plt.show()  # show the plot\n",
        "\n",
        "labeled_barplot(df, 'age')"
      ]
    },
    {
      "cell_type": "code",
      "execution_count": 35,
      "metadata": {
        "id": "c08fe5b8",
        "colab": {
          "base_uri": "https://localhost:8080/",
          "height": 852
        },
        "outputId": "8235f197-ab95-44e8-b740-7ad8b2504798"
      },
      "outputs": [
        {
          "output_type": "stream",
          "name": "stdout",
          "text": [
            "is_promoted            0     1    All\n",
            "length_of_service                    \n",
            "All                50140  4668  54808\n",
            "3                   6424   609   7033\n",
            "4                   6238   598   6836\n",
            "2                   6089   595   6684\n",
            "5                   5357   475   5832\n",
            "7                   5087   464   5551\n",
            "6                   4333   401   4734\n",
            "1                   4170   377   4547\n",
            "8                   2614   269   2883\n",
            "9                   2400   229   2629\n",
            "10                  1989   204   2193\n",
            "11                   820    96    916\n",
            "12                   731    63    794\n",
            "13                   633    54    687\n",
            "15                   550    43    593\n",
            "16                   507    41    548\n",
            "19                   297    32    329\n",
            "14                   520    29    549\n",
            "17                   406    26    432\n",
            "18                   367    25    392\n",
            "20                   118    10    128\n",
            "23                    58     7     65\n",
            "22                    55     6     61\n",
            "21                    74     4     78\n",
            "29                    27     3     30\n",
            "25                    49     2     51\n",
            "28                    28     2     30\n",
            "32                     8     2     10\n",
            "34                     3     1      4\n",
            "27                    35     1     36\n",
            "24                    70     0     70\n",
            "26                    41     0     41\n",
            "30                    12     0     12\n",
            "31                    20     0     20\n",
            "33                     9     0      9\n",
            "37                     1     0      1\n",
            "------------------------------------------------------------------------------------------------------------------------\n"
          ]
        },
        {
          "output_type": "display_data",
          "data": {
            "text/plain": [
              "<Figure size 3600x500 with 1 Axes>"
            ],
            "image/png": "[encoded data removed]"
          },
          "metadata": {}
        }
      ],
      "source": [
        "#Using the function to plot stacked bar chart\n",
        "#Question 3 - How does the change in\n",
        "#length of service (length_of_service) vary by the employee's\n",
        "#promotion status (is_promoted)?\n",
        "#The highest number of promotions occur at 34 and 32 years\n",
        "#of service.\n",
        "\n",
        "\n",
        "def stacked_barplot(df, length_of_service, is_promoted):\n",
        "    \"\"\"\n",
        "    Print the category counts and plot a stacked bar chart\n",
        "\n",
        "    data: dataframe\n",
        "    predictor: independent variable\n",
        "    target: target variable\n",
        "    \"\"\"\n",
        "    count = df['length_of_service'].nunique()\n",
        "    sorter = df['is_promoted'].value_counts().index[-1]\n",
        "    tab1 = pd.crosstab(df['length_of_service'], df['is_promoted'],\n",
        "                       margins=True).sort_values(\n",
        "        by=sorter, ascending=False\n",
        "    )\n",
        "    print(tab1)\n",
        "    print(\"-\" * 120)\n",
        "    tab = pd.crosstab(df['length_of_service'], df['is_promoted'],\n",
        "                      normalize=\"index\").sort_values(\n",
        "        by=sorter, ascending=False\n",
        "    )\n",
        "    tab.plot(kind=\"bar\", stacked=True, figsize=(count + 1, 5))\n",
        "    plt.legend(\n",
        "        loc=\"lower left\", frameon=False,\n",
        "    )\n",
        "    plt.legend(loc=\"upper left\", bbox_to_anchor=(1, 1))\n",
        "    plt.show()\n",
        "\n",
        "stacked_barplot(df, 'length_of_service', 'is_promoted')"
      ]
    },
    {
      "cell_type": "code",
      "execution_count": 36,
      "metadata": {
        "id": "e90985c5",
        "colab": {
          "base_uri": "https://localhost:8080/",
          "height": 756
        },
        "outputId": "eb6608e3-ab6f-4ce9-f513-9a6b629c3984"
      },
      "outputs": [
        {
          "output_type": "display_data",
          "data": {
            "text/plain": [
              "<Figure size 1200x1000 with 4 Axes>"
            ],
            "image/png": "[encoded data removed]"
          },
          "metadata": {}
        }
      ],
      "source": [
        "#Using the Function to plot distributions\n",
        "#Question 4 - How does the previous rating (previous_year_rating)\n",
        "#vary by the employee's promotion status (is_promoted)?\n",
        "#Without outliers, the majority of employees are promoted if their\n",
        "#last years rating was a 5.0.\n",
        "#There are a few outliers that skew the data when it's plotted directly.\n",
        "#Some of the employees that were promoted, were promoted despite an\n",
        "#evaluation of 3.0.\n",
        "\n",
        "def distribution_plot_wrt_target(df, previous_year_rating, is_promoted):\n",
        "\n",
        "    fig, axs = plt.subplots(2, 2, figsize=(12, 10))\n",
        "\n",
        "    target_uniq = df[is_promoted].unique()\n",
        "\n",
        "    axs[0, 0].set_title(\"Distribution of target for target=\" + str(target_uniq[0]))\n",
        "    sns.histplot(\n",
        "        data=df[df[is_promoted] == target_uniq[0]],\n",
        "        x=previous_year_rating,\n",
        "        kde=True,\n",
        "        ax=axs[0, 0],\n",
        "        color=\"teal\",\n",
        "    )\n",
        "\n",
        "    axs[0, 1].set_title(\"Distribution of target for target=\" + str(target_uniq[1]))\n",
        "    sns.histplot(\n",
        "        data=df[df[is_promoted] == target_uniq[1]],\n",
        "        x=previous_year_rating,\n",
        "        kde=True,\n",
        "        ax=axs[0, 1],\n",
        "        color=\"orange\",\n",
        "    )\n",
        "\n",
        "    axs[1, 0].set_title(\"Boxplot w.r.t target\")\n",
        "    sns.boxplot(data=df, x=is_promoted, y=previous_year_rating, ax=axs[1, 0], palette=\"gist_rainbow\")\n",
        "\n",
        "    axs[1, 1].set_title(\"Boxplot (without outliers) w.r.t target\")\n",
        "    sns.boxplot(\n",
        "        data=df,\n",
        "        x=is_promoted,\n",
        "        y=previous_year_rating,\n",
        "        ax=axs[1, 1],\n",
        "        showfliers=False,\n",
        "        palette=\"gist_rainbow\",\n",
        "    )\n",
        "\n",
        "    plt.tight_layout()\n",
        "    plt.show()\n",
        "\n",
        "distribution_plot_wrt_target(df, 'previous_year_rating', 'is_promoted')"
      ]
    },
    {
      "cell_type": "code",
      "source": [
        "#Question 5 - What are the attributes with a strong correlation to\n",
        "#eachother?\n",
        "#Age and Length of Service correlate - this is to be expected.\n",
        "#The factors that appear to correlate the most to is_promoted are\n",
        "#previous_year_rating, awards_won, average_training_score.\n",
        "#The employee id column is irrelevant - this is to be expected.\n",
        "\n",
        "#Creating the heatmap of correlations\n",
        "df.corr()\n",
        "sns.heatmap(df.corr())"
      ],
      "metadata": {
        "colab": {
          "base_uri": "https://localhost:8080/",
          "height": 674
        },
        "id": "y7xO8c2uJYzW",
        "outputId": "d7e2fbd0-2e9a-4d25-950e-04b2d0188c1c"
      },
      "execution_count": 37,
      "outputs": [
        {
          "output_type": "stream",
          "name": "stderr",
          "text": [
            "<ipython-input-37-e1630967aba1>:9: FutureWarning: The default value of numeric_only in DataFrame.corr is deprecated. In a future version, it will default to False. Select only valid columns or specify the value of numeric_only to silence this warning.\n",
            "  df.corr()\n",
            "<ipython-input-37-e1630967aba1>:10: FutureWarning: The default value of numeric_only in DataFrame.corr is deprecated. In a future version, it will default to False. Select only valid columns or specify the value of numeric_only to silence this warning.\n",
            "  sns.heatmap(df.corr())\n"
          ]
        },
        {
          "output_type": "execute_result",
          "data": {
            "text/plain": [
              "<Axes: >"
            ]
          },
          "metadata": {},
          "execution_count": 37
        },
        {
          "output_type": "display_data",
          "data": {
            "text/plain": [
              "<Figure size 640x480 with 2 Axes>"
            ],
            "image/png": "[encoded data removed]"
          },
          "metadata": {}
        }
      ]
    },
    {
      "cell_type": "markdown",
      "metadata": {
        "id": "knk0w9XH4jao"
      },
      "source": [
        "## Data Pre-processing"
      ]
    },
    {
      "cell_type": "code",
      "execution_count": 38,
      "metadata": {
        "id": "2JbJc1bX4jao",
        "colab": {
          "base_uri": "https://localhost:8080/"
        },
        "outputId": "41af4e7c-0035-408d-e41a-d4b2e684d311"
      },
      "outputs": [
        {
          "output_type": "stream",
          "name": "stdout",
          "text": [
            "<class 'pandas.core.frame.DataFrame'>\n",
            "RangeIndex: 54808 entries, 0 to 54807\n",
            "Data columns (total 12 columns):\n",
            " #   Column                Non-Null Count  Dtype  \n",
            "---  ------                --------------  -----  \n",
            " 0   department            54808 non-null  object \n",
            " 1   region                54808 non-null  object \n",
            " 2   education             52399 non-null  object \n",
            " 3   gender                54808 non-null  object \n",
            " 4   recruitment_channel   54808 non-null  object \n",
            " 5   no_of_trainings       54808 non-null  int64  \n",
            " 6   age                   54808 non-null  int64  \n",
            " 7   previous_year_rating  50684 non-null  float64\n",
            " 8   length_of_service     54808 non-null  int64  \n",
            " 9   awards_won            54808 non-null  int64  \n",
            " 10  avg_training_score    52248 non-null  float64\n",
            " 11  is_promoted           54808 non-null  int64  \n",
            "dtypes: float64(2), int64(5), object(5)\n",
            "memory usage: 5.0+ MB\n"
          ]
        }
      ],
      "source": [
        "#The employee id column appears to be irrelevant.\n",
        "#It can be dropped.\n",
        "df.drop(['employee_id'], axis=1, inplace=True)\n",
        "df.info()"
      ]
    },
    {
      "cell_type": "code",
      "source": [
        "#The relative percentage of rows with null values is very small\n",
        "df.dropna(axis=0, inplace=True)"
      ],
      "metadata": {
        "id": "4w0Hd9BL9JGf"
      },
      "execution_count": 39,
      "outputs": []
    },
    {
      "cell_type": "code",
      "source": [
        "df.info()"
      ],
      "metadata": {
        "colab": {
          "base_uri": "https://localhost:8080/"
        },
        "id": "n62MEh7MMl56",
        "outputId": "d6910126-3189-4fb0-ef4c-edc1359d4a54"
      },
      "execution_count": 40,
      "outputs": [
        {
          "output_type": "stream",
          "name": "stdout",
          "text": [
            "<class 'pandas.core.frame.DataFrame'>\n",
            "Int64Index: 46380 entries, 0 to 54807\n",
            "Data columns (total 12 columns):\n",
            " #   Column                Non-Null Count  Dtype  \n",
            "---  ------                --------------  -----  \n",
            " 0   department            46380 non-null  object \n",
            " 1   region                46380 non-null  object \n",
            " 2   education             46380 non-null  object \n",
            " 3   gender                46380 non-null  object \n",
            " 4   recruitment_channel   46380 non-null  object \n",
            " 5   no_of_trainings       46380 non-null  int64  \n",
            " 6   age                   46380 non-null  int64  \n",
            " 7   previous_year_rating  46380 non-null  float64\n",
            " 8   length_of_service     46380 non-null  int64  \n",
            " 9   awards_won            46380 non-null  int64  \n",
            " 10  avg_training_score    46380 non-null  float64\n",
            " 11  is_promoted           46380 non-null  int64  \n",
            "dtypes: float64(2), int64(5), object(5)\n",
            "memory usage: 4.6+ MB\n"
          ]
        }
      ]
    },
    {
      "cell_type": "code",
      "source": [
        "#Verfiy the number of unique values in each column to\n",
        "#determine data pre-processing method\n",
        "df.nunique()"
      ],
      "metadata": {
        "colab": {
          "base_uri": "https://localhost:8080/"
        },
        "id": "nyghFMMOQ2Bk",
        "outputId": "85c6708b-36ab-4767-cb03-dafb7ad8ae88"
      },
      "execution_count": 41,
      "outputs": [
        {
          "output_type": "execute_result",
          "data": {
            "text/plain": [
              "department               9\n",
              "region                  34\n",
              "education                3\n",
              "gender                   2\n",
              "recruitment_channel      3\n",
              "no_of_trainings         10\n",
              "age                     41\n",
              "previous_year_rating     5\n",
              "length_of_service       35\n",
              "awards_won               2\n",
              "avg_training_score      59\n",
              "is_promoted              2\n",
              "dtype: int64"
            ]
          },
          "metadata": {},
          "execution_count": 41
        }
      ]
    },
    {
      "cell_type": "code",
      "source": [
        "#The independent variables that are categorical need converted\n",
        "#to dummy variables.\n",
        "#There are some non-categorical variables -age, length_of_service\n",
        "#average_training_score, region,\n",
        "#and no_of_trainings will need to be\n",
        "#one-hot coded into a few different bins.\n",
        "df=pd.get_dummies(df, columns=['department'])\n",
        "df=pd.get_dummies(df, columns=['education'])\n",
        "df=pd.get_dummies(df, columns=['gender'])\n",
        "df=pd.get_dummies(df, columns=['recruitment_channel'])\n",
        "df=pd.get_dummies(df, columns=['previous_year_rating'])\n",
        "df=pd.get_dummies(df, columns=['awards_won'])\n",
        "df=pd.get_dummies(df, columns=['region'])"
      ],
      "metadata": {
        "id": "uupynjwKN7QV"
      },
      "execution_count": 42,
      "outputs": []
    },
    {
      "cell_type": "code",
      "source": [
        "df.info()"
      ],
      "metadata": {
        "colab": {
          "base_uri": "https://localhost:8080/"
        },
        "id": "6vsca0hrSK4p",
        "outputId": "50fc7b40-9b73-4a27-9da6-5d50265f34fa"
      },
      "execution_count": 43,
      "outputs": [
        {
          "output_type": "stream",
          "name": "stdout",
          "text": [
            "<class 'pandas.core.frame.DataFrame'>\n",
            "Int64Index: 46380 entries, 0 to 54807\n",
            "Data columns (total 63 columns):\n",
            " #   Column                        Non-Null Count  Dtype  \n",
            "---  ------                        --------------  -----  \n",
            " 0   no_of_trainings               46380 non-null  int64  \n",
            " 1   age                           46380 non-null  int64  \n",
            " 2   length_of_service             46380 non-null  int64  \n",
            " 3   avg_training_score            46380 non-null  float64\n",
            " 4   is_promoted                   46380 non-null  int64  \n",
            " 5   department_Analytics          46380 non-null  uint8  \n",
            " 6   department_Finance            46380 non-null  uint8  \n",
            " 7   department_HR                 46380 non-null  uint8  \n",
            " 8   department_Legal              46380 non-null  uint8  \n",
            " 9   department_Operations         46380 non-null  uint8  \n",
            " 10  department_Procurement        46380 non-null  uint8  \n",
            " 11  department_R&D                46380 non-null  uint8  \n",
            " 12  department_Sales & Marketing  46380 non-null  uint8  \n",
            " 13  department_Technology         46380 non-null  uint8  \n",
            " 14  education_Bachelor's          46380 non-null  uint8  \n",
            " 15  education_Below Secondary     46380 non-null  uint8  \n",
            " 16  education_Master's & above    46380 non-null  uint8  \n",
            " 17  gender_f                      46380 non-null  uint8  \n",
            " 18  gender_m                      46380 non-null  uint8  \n",
            " 19  recruitment_channel_other     46380 non-null  uint8  \n",
            " 20  recruitment_channel_referred  46380 non-null  uint8  \n",
            " 21  recruitment_channel_sourcing  46380 non-null  uint8  \n",
            " 22  previous_year_rating_1.0      46380 non-null  uint8  \n",
            " 23  previous_year_rating_2.0      46380 non-null  uint8  \n",
            " 24  previous_year_rating_3.0      46380 non-null  uint8  \n",
            " 25  previous_year_rating_4.0      46380 non-null  uint8  \n",
            " 26  previous_year_rating_5.0      46380 non-null  uint8  \n",
            " 27  awards_won_0                  46380 non-null  uint8  \n",
            " 28  awards_won_1                  46380 non-null  uint8  \n",
            " 29  region_region_1               46380 non-null  uint8  \n",
            " 30  region_region_10              46380 non-null  uint8  \n",
            " 31  region_region_11              46380 non-null  uint8  \n",
            " 32  region_region_12              46380 non-null  uint8  \n",
            " 33  region_region_13              46380 non-null  uint8  \n",
            " 34  region_region_14              46380 non-null  uint8  \n",
            " 35  region_region_15              46380 non-null  uint8  \n",
            " 36  region_region_16              46380 non-null  uint8  \n",
            " 37  region_region_17              46380 non-null  uint8  \n",
            " 38  region_region_18              46380 non-null  uint8  \n",
            " 39  region_region_19              46380 non-null  uint8  \n",
            " 40  region_region_2               46380 non-null  uint8  \n",
            " 41  region_region_20              46380 non-null  uint8  \n",
            " 42  region_region_21              46380 non-null  uint8  \n",
            " 43  region_region_22              46380 non-null  uint8  \n",
            " 44  region_region_23              46380 non-null  uint8  \n",
            " 45  region_region_24              46380 non-null  uint8  \n",
            " 46  region_region_25              46380 non-null  uint8  \n",
            " 47  region_region_26              46380 non-null  uint8  \n",
            " 48  region_region_27              46380 non-null  uint8  \n",
            " 49  region_region_28              46380 non-null  uint8  \n",
            " 50  region_region_29              46380 non-null  uint8  \n",
            " 51  region_region_3               46380 non-null  uint8  \n",
            " 52  region_region_30              46380 non-null  uint8  \n",
            " 53  region_region_31              46380 non-null  uint8  \n",
            " 54  region_region_32              46380 non-null  uint8  \n",
            " 55  region_region_33              46380 non-null  uint8  \n",
            " 56  region_region_34              46380 non-null  uint8  \n",
            " 57  region_region_4               46380 non-null  uint8  \n",
            " 58  region_region_5               46380 non-null  uint8  \n",
            " 59  region_region_6               46380 non-null  uint8  \n",
            " 60  region_region_7               46380 non-null  uint8  \n",
            " 61  region_region_8               46380 non-null  uint8  \n",
            " 62  region_region_9               46380 non-null  uint8  \n",
            "dtypes: float64(1), int64(4), uint8(58)\n",
            "memory usage: 4.7 MB\n"
          ]
        }
      ]
    },
    {
      "cell_type": "code",
      "source": [
        "#This does make the data have a large number\n",
        "#of columns. However, there is no evidence that the regions can be grouped.\n",
        "#There is not enough data to say that region_1 through region_5 are\n",
        "#related or in close  proximity. I opted to use get_dummies and use an\n",
        "#excessive number of columns to see how the model will perform.\n",
        "\n",
        "#Change the data type of average_training_score to int.\n",
        "df['avg_training_score']=df['avg_training_score'].astype(int)\n",
        "\n",
        "#The following columns need to be one-hot coded\n",
        "#before using get_dummies:\n",
        "#age, length_of_service, average_training_score, region,\n",
        "#and no_of_trainings.\n",
        "\n",
        "#Converting age into categories 0, 1, 2, 3\n",
        "#age_cols={'0': [20<=df['age']<30], '1': [30<=df['age']<40], '2': [40<=df['age']<50], '3': [50<=df['age']<=60]}\n",
        "#print(age_cols)\n",
        "#Converting length_of_service into categories 0, 1, 2, 3\n",
        "\n",
        "#Converting average_training score into categories 0, 1, 2, 3\n",
        "\n",
        "#Converting region into categories 0, 1, 2, 3\n",
        "\n",
        "#Converting no_of_trainings into categories 0, 1, 2\n"
      ],
      "metadata": {
        "id": "7WAA5OVvSV2M"
      },
      "execution_count": 55,
      "outputs": []
    },
    {
      "cell_type": "code",
      "source": [
        "#Verify all data categories are now integers using info.\n",
        "df.info()"
      ],
      "metadata": {
        "colab": {
          "base_uri": "https://localhost:8080/"
        },
        "id": "U4TbXMPbEZk0",
        "outputId": "392264e9-2e34-4786-8dae-7c321b80bd29"
      },
      "execution_count": 56,
      "outputs": [
        {
          "output_type": "stream",
          "name": "stdout",
          "text": [
            "<class 'pandas.core.frame.DataFrame'>\n",
            "Int64Index: 46380 entries, 0 to 54807\n",
            "Data columns (total 63 columns):\n",
            " #   Column                        Non-Null Count  Dtype\n",
            "---  ------                        --------------  -----\n",
            " 0   no_of_trainings               46380 non-null  int64\n",
            " 1   age                           46380 non-null  int64\n",
            " 2   length_of_service             46380 non-null  int64\n",
            " 3   avg_training_score            46380 non-null  int64\n",
            " 4   is_promoted                   46380 non-null  int64\n",
            " 5   department_Analytics          46380 non-null  uint8\n",
            " 6   department_Finance            46380 non-null  uint8\n",
            " 7   department_HR                 46380 non-null  uint8\n",
            " 8   department_Legal              46380 non-null  uint8\n",
            " 9   department_Operations         46380 non-null  uint8\n",
            " 10  department_Procurement        46380 non-null  uint8\n",
            " 11  department_R&D                46380 non-null  uint8\n",
            " 12  department_Sales & Marketing  46380 non-null  uint8\n",
            " 13  department_Technology         46380 non-null  uint8\n",
            " 14  education_Bachelor's          46380 non-null  uint8\n",
            " 15  education_Below Secondary     46380 non-null  uint8\n",
            " 16  education_Master's & above    46380 non-null  uint8\n",
            " 17  gender_f                      46380 non-null  uint8\n",
            " 18  gender_m                      46380 non-null  uint8\n",
            " 19  recruitment_channel_other     46380 non-null  uint8\n",
            " 20  recruitment_channel_referred  46380 non-null  uint8\n",
            " 21  recruitment_channel_sourcing  46380 non-null  uint8\n",
            " 22  previous_year_rating_1.0      46380 non-null  uint8\n",
            " 23  previous_year_rating_2.0      46380 non-null  uint8\n",
            " 24  previous_year_rating_3.0      46380 non-null  uint8\n",
            " 25  previous_year_rating_4.0      46380 non-null  uint8\n",
            " 26  previous_year_rating_5.0      46380 non-null  uint8\n",
            " 27  awards_won_0                  46380 non-null  uint8\n",
            " 28  awards_won_1                  46380 non-null  uint8\n",
            " 29  region_region_1               46380 non-null  uint8\n",
            " 30  region_region_10              46380 non-null  uint8\n",
            " 31  region_region_11              46380 non-null  uint8\n",
            " 32  region_region_12              46380 non-null  uint8\n",
            " 33  region_region_13              46380 non-null  uint8\n",
            " 34  region_region_14              46380 non-null  uint8\n",
            " 35  region_region_15              46380 non-null  uint8\n",
            " 36  region_region_16              46380 non-null  uint8\n",
            " 37  region_region_17              46380 non-null  uint8\n",
            " 38  region_region_18              46380 non-null  uint8\n",
            " 39  region_region_19              46380 non-null  uint8\n",
            " 40  region_region_2               46380 non-null  uint8\n",
            " 41  region_region_20              46380 non-null  uint8\n",
            " 42  region_region_21              46380 non-null  uint8\n",
            " 43  region_region_22              46380 non-null  uint8\n",
            " 44  region_region_23              46380 non-null  uint8\n",
            " 45  region_region_24              46380 non-null  uint8\n",
            " 46  region_region_25              46380 non-null  uint8\n",
            " 47  region_region_26              46380 non-null  uint8\n",
            " 48  region_region_27              46380 non-null  uint8\n",
            " 49  region_region_28              46380 non-null  uint8\n",
            " 50  region_region_29              46380 non-null  uint8\n",
            " 51  region_region_3               46380 non-null  uint8\n",
            " 52  region_region_30              46380 non-null  uint8\n",
            " 53  region_region_31              46380 non-null  uint8\n",
            " 54  region_region_32              46380 non-null  uint8\n",
            " 55  region_region_33              46380 non-null  uint8\n",
            " 56  region_region_34              46380 non-null  uint8\n",
            " 57  region_region_4               46380 non-null  uint8\n",
            " 58  region_region_5               46380 non-null  uint8\n",
            " 59  region_region_6               46380 non-null  uint8\n",
            " 60  region_region_7               46380 non-null  uint8\n",
            " 61  region_region_8               46380 non-null  uint8\n",
            " 62  region_region_9               46380 non-null  uint8\n",
            "dtypes: int64(5), uint8(58)\n",
            "memory usage: 4.7 MB\n"
          ]
        }
      ]
    },
    {
      "cell_type": "code",
      "source": [
        "#Splitting the data for model building.\n",
        "x=df.drop('is_promoted', axis=1)\n",
        "y=df['is_promoted']\n",
        "\n",
        "X_temp, X_test, y_temp, y_test = train_test_split(x,y, test_size=0.2, random_state=1, stratify=y)\n",
        "\n",
        "#Splitting temporary set into training and validation\n",
        "X_train, X_val, y_train, y_val = train_test_split(X_temp,y_temp, test_size=0.25, random_state=1, stratify=y_temp)\n",
        "\n",
        "#Examine the split data\n",
        "print(X_train.shape, X_val.shape, X_test.shape)"
      ],
      "metadata": {
        "colab": {
          "base_uri": "https://localhost:8080/"
        },
        "id": "11K1R-BjEk8Y",
        "outputId": "2d8fd563-c66e-45aa-acca-0b1346c88385"
      },
      "execution_count": 58,
      "outputs": [
        {
          "output_type": "stream",
          "name": "stdout",
          "text": [
            "(27828, 62) (9276, 62) (9276, 62)\n"
          ]
        }
      ]
    },
    {
      "cell_type": "markdown",
      "source": [
        "## Model Building"
      ],
      "metadata": {
        "id": "OzOa9FGA6WtG"
      }
    },
    {
      "cell_type": "markdown",
      "metadata": {
        "id": "YZqmoqz7bp0-"
      },
      "source": [
        "### Model evaluation criterion"
      ]
    },
    {
      "cell_type": "markdown",
      "source": [
        "The nature of predictions made by the classification model will translate as follows:\n",
        "\n",
        "- True positives (TP) are failures correctly predicted by the model.\n",
        "- False negatives (FN) are real failures in a generator where there is no detection by model.\n",
        "- False positives (FP) are failure detections in a generator where there is no failure.\n",
        "\n",
        "**Which metric to optimize?**\n",
        "\n",
        "* We need to choose the metric which will ensure that the maximum number of generator failures are predicted correctly by the model.\n",
        "* We would want Recall to be maximized as greater the Recall, the higher the chances of minimizing false negatives.\n",
        "* We want to minimize false negatives because if a model predicts that a machine will have no failure when there will be a failure, it will increase the maintenance cost."
      ],
      "metadata": {
        "id": "l2ORUgmUjDZC"
      }
    },
    {
      "cell_type": "markdown",
      "metadata": {
        "id": "djQTqGKU4jap"
      },
      "source": [
        "**Let's define a function to output different metrics (including recall) on the train and test set and a function to show confusion matrix so that we do not have to use the same code repetitively while evaluating models.**"
      ]
    },
    {
      "cell_type": "code",
      "execution_count": 60,
      "metadata": {
        "id": "bIekBxwp4jaq"
      },
      "outputs": [],
      "source": [
        "#Defining a function to compute different metrics to check performance of a\n",
        "#classification model built using sklearn\n",
        "def model_performance_classification_sklearn(model, predictors, target):\n",
        "    \"\"\"\n",
        "    Function to compute different metrics to check classification model performance\n",
        "\n",
        "    model: classifier\n",
        "    predictors: independent variables\n",
        "    target: dependent variable\n",
        "    \"\"\"\n",
        "\n",
        "    # predicting using the independent variables\n",
        "    pred = model.predict(predictors)\n",
        "\n",
        "    acc = accuracy_score(target, pred)  # to compute Accuracy\n",
        "    recall = recall_score(target, pred)  # to compute Recall\n",
        "    precision = precision_score(target, pred)  # to compute Precision\n",
        "    f1 = f1_score(target, pred)  # to compute F1-score\n",
        "\n",
        "    # creating a dataframe of metrics\n",
        "    df_perf = pd.DataFrame(\n",
        "        {\n",
        "            \"Accuracy\": acc,\n",
        "            \"Recall\": recall,\n",
        "            \"Precision\": precision,\n",
        "            \"F1\": f1\n",
        "\n",
        "        },\n",
        "        index=[0],\n",
        "    )\n",
        "\n",
        "    return df_perf"
      ]
    },
    {
      "cell_type": "code",
      "source": [
        "#Defining a function to generate the confusion matrix.\n",
        "def confusion_matrix_sklearn(model, predictors, target):\n",
        "    \"\"\"\n",
        "    To plot the confusion_matrix with percentages\n",
        "\n",
        "    model: classifier\n",
        "    predictors: independent variables\n",
        "    target: dependent variable\n",
        "    \"\"\"\n",
        "    y_pred = model.predict(predictors)\n",
        "    cm = confusion_matrix(target, y_pred)\n",
        "    labels = np.asarray(\n",
        "        [\n",
        "            [\"{0:0.0f}\".format(item) + \"\\n{0:.2%}\".format(item / cm.flatten().sum())]\n",
        "            for item in cm.flatten()\n",
        "        ]\n",
        "    ).reshape(2, 2)\n",
        "\n",
        "    plt.figure(figsize=(6, 4))\n",
        "    sns.heatmap(cm, annot=labels, fmt=\"\")\n",
        "    plt.ylabel(\"True label\")\n",
        "    plt.xlabel(\"Predicted label\")\n"
      ],
      "metadata": {
        "id": "wWf2A3u9He5S"
      },
      "execution_count": 61,
      "outputs": []
    },
    {
      "cell_type": "markdown",
      "metadata": {
        "id": "eqCDCbcw4jas"
      },
      "source": [
        "### Model Building with original data"
      ]
    },
    {
      "cell_type": "markdown",
      "metadata": {
        "id": "dBtuhurlhKyp"
      },
      "source": [
        "Sample code for model building with original data"
      ]
    },
    {
      "cell_type": "code",
      "execution_count": 63,
      "metadata": {
        "id": "V-tpzI7g4jas",
        "colab": {
          "base_uri": "https://localhost:8080/"
        },
        "outputId": "2d469d85-7a1a-447f-b326-5174b58b5d3d"
      },
      "outputs": [
        {
          "output_type": "stream",
          "name": "stdout",
          "text": [
            "\n",
            "Training Performance:\n",
            "\n"
          ]
        },
        {
          "output_type": "stream",
          "name": "stderr",
          "text": [
            "/usr/local/lib/python3.10/dist-packages/sklearn/linear_model/_logistic.py:458: ConvergenceWarning: lbfgs failed to converge (status=1):\n",
            "STOP: TOTAL NO. of ITERATIONS REACHED LIMIT.\n",
            "\n",
            "Increase the number of iterations (max_iter) or scale the data as shown in:\n",
            "    https://scikit-learn.org/stable/modules/preprocessing.html\n",
            "Please also refer to the documentation for alternative solver options:\n",
            "    https://scikit-learn.org/stable/modules/linear_model.html#logistic-regression\n",
            "  n_iter_i = _check_optimize_result(\n"
          ]
        },
        {
          "output_type": "stream",
          "name": "stdout",
          "text": [
            "Logistic regression: 0.215309046254605\n",
            "Bagging: 0.8628735161686452\n",
            "DecisionTree: 0.9975440032746623\n",
            "Random Forest: 0.997134670487106\n",
            "AdaBoost: 0.18706508391322144\n",
            "XGBoost: 0.3962341383544822\n",
            "\n",
            "Validation Performance:\n",
            "\n"
          ]
        },
        {
          "output_type": "stream",
          "name": "stderr",
          "text": [
            "/usr/local/lib/python3.10/dist-packages/sklearn/linear_model/_logistic.py:458: ConvergenceWarning: lbfgs failed to converge (status=1):\n",
            "STOP: TOTAL NO. of ITERATIONS REACHED LIMIT.\n",
            "\n",
            "Increase the number of iterations (max_iter) or scale the data as shown in:\n",
            "    https://scikit-learn.org/stable/modules/preprocessing.html\n",
            "Please also refer to the documentation for alternative solver options:\n",
            "    https://scikit-learn.org/stable/modules/linear_model.html#logistic-regression\n",
            "  n_iter_i = _check_optimize_result(\n"
          ]
        },
        {
          "output_type": "stream",
          "name": "stdout",
          "text": [
            "Logistic regression: 0.23464373464373464\n",
            "Bagging: 0.3476658476658477\n",
            "DecisionTree: 0.41277641277641275\n",
            "Random Forest: 0.2665847665847666\n",
            "AdaBoost: 0.20147420147420148\n",
            "XGBoost: 0.3488943488943489\n"
          ]
        }
      ],
      "source": [
        "models = []  # Empty list to store all the models\n",
        "\n",
        "# Appending models into the list\n",
        "models.append((\"Logistic regression\", LogisticRegression(random_state=1)))\n",
        "models.append((\"Bagging\", BaggingClassifier(random_state=1)))\n",
        "models.append((\"DecisionTree\", DecisionTreeClassifier(random_state=1)))\n",
        "models.append((\"Random Forest\", RandomForestClassifier(random_state=1)))\n",
        "models.append((\"AdaBoost\", AdaBoostClassifier(random_state=1)))\n",
        "models.append((\"XGBoost\", XGBClassifier(random_state=1)))\n",
        "\n",
        "print(\"\\n\" \"Training Performance:\" \"\\n\")\n",
        "for name, model in models:\n",
        "    model.fit(X_train, y_train)\n",
        "    scores = recall_score(y_train, model.predict(X_train))\n",
        "    print(\"{}: {}\".format(name, scores))\n",
        "\n",
        "print(\"\\n\" \"Validation Performance:\" \"\\n\")\n",
        "\n",
        "for name, model in models:\n",
        "    model.fit(X_train, y_train)\n",
        "    scores_val = recall_score(y_val, model.predict(X_val))\n",
        "    print(\"{}: {}\".format(name, scores_val))"
      ]
    },
    {
      "cell_type": "markdown",
      "metadata": {
        "id": "oBKJaFU24jas"
      },
      "source": [
        "### Model Building with Oversampled data\n"
      ]
    },
    {
      "cell_type": "code",
      "execution_count": 68,
      "metadata": {
        "id": "FKxnygkE4jat",
        "colab": {
          "base_uri": "https://localhost:8080/"
        },
        "outputId": "72fec17b-38d8-4e0e-8882-284972026472"
      },
      "outputs": [
        {
          "output_type": "stream",
          "name": "stdout",
          "text": [
            "Before UpSampling, counts of label 'Yes': 2443\n",
            "Before UpSampling, counts of label 'No': 25385 \n",
            "\n",
            "After UpSampling, counts of label 'Yes': 25385\n",
            "After UpSampling, counts of label 'No': 25385 \n",
            "\n",
            "After UpSampling, the shape of train_X: (50770, 62)\n",
            "After UpSampling, the shape of train_y: (50770,) \n",
            "\n"
          ]
        }
      ],
      "source": [
        "print(\"Before UpSampling, counts of label 'Yes': {}\".format(sum(y_train == 1)))\n",
        "print(\"Before UpSampling, counts of label 'No': {} \\n\".format(sum(y_train == 0)))\n",
        "\n",
        "# Synthetic Minority Over Sampling Technique\n",
        "sm = SMOTE(sampling_strategy=1, k_neighbors=5, random_state=1)\n",
        "X_train_over, y_train_over = sm.fit_resample(X_train, y_train)\n",
        "\n",
        "print(\"After UpSampling, counts of label 'Yes': {}\".format(sum(y_train_over == 1)))\n",
        "print(\"After UpSampling, counts of label 'No': {} \\n\".format(sum(y_train_over == 0)))\n",
        "\n",
        "\n",
        "print(\"After UpSampling, the shape of train_X: {}\".format(X_train_over.shape))\n",
        "print(\"After UpSampling, the shape of train_y: {} \\n\".format(y_train_over.shape))"
      ]
    },
    {
      "cell_type": "code",
      "source": [
        "models = []  # Empty list to store all the Oversampled models\n",
        "\n",
        "# Appending oversampled models into the list\n",
        "models.append((\"Logistic regression\", LogisticRegression(random_state=1)))\n",
        "models.append((\"Bagging\", BaggingClassifier(random_state=1)))\n",
        "models.append((\"DecisionTree\", DecisionTreeClassifier(random_state=1)))\n",
        "models.append((\"Random Forest\", RandomForestClassifier(random_state=1)))\n",
        "models.append((\"AdaBoost\", AdaBoostClassifier(random_state=1)))\n",
        "models.append((\"XGBoost\", XGBClassifier(random_state=1)))\n",
        "\n",
        "print(\"\\n\" \"Training Performance:\" \"\\n\")\n",
        "for name, model in models:\n",
        "    model.fit(X_train_over, y_train_over)\n",
        "    scores = recall_score(y_train_over, model.predict(X_train_over))\n",
        "    print(\"{}: {}\".format(name, scores))\n",
        "\n",
        "print(\"\\n\" \"Validation Performance:\" \"\\n\")\n",
        "\n",
        "for name, model in models:\n",
        "    model.fit(X_train_over, y_train_over)\n",
        "    scores_val = recall_score(y_val, model.predict(X_val))\n",
        "    print(\"{}: {}\".format(name, scores_val))"
      ],
      "metadata": {
        "colab": {
          "base_uri": "https://localhost:8080/"
        },
        "id": "2tzmqG4dUI5I",
        "outputId": "77263367-1652-48cc-a4b3-d86ea113647b"
      },
      "execution_count": 69,
      "outputs": [
        {
          "output_type": "stream",
          "name": "stdout",
          "text": [
            "\n",
            "Training Performance:\n",
            "\n"
          ]
        },
        {
          "output_type": "stream",
          "name": "stderr",
          "text": [
            "/usr/local/lib/python3.10/dist-packages/sklearn/linear_model/_logistic.py:458: ConvergenceWarning: lbfgs failed to converge (status=1):\n",
            "STOP: TOTAL NO. of ITERATIONS REACHED LIMIT.\n",
            "\n",
            "Increase the number of iterations (max_iter) or scale the data as shown in:\n",
            "    https://scikit-learn.org/stable/modules/preprocessing.html\n",
            "Please also refer to the documentation for alternative solver options:\n",
            "    https://scikit-learn.org/stable/modules/linear_model.html#logistic-regression\n",
            "  n_iter_i = _check_optimize_result(\n"
          ]
        },
        {
          "output_type": "stream",
          "name": "stdout",
          "text": [
            "Logistic regression: 0.8903683277526098\n",
            "Bagging: 0.9912546779594249\n",
            "DecisionTree: 0.9996848532597991\n",
            "Random Forest: 0.9996454599172739\n",
            "AdaBoost: 0.8749655308252905\n",
            "XGBoost: 0.9362615717943668\n",
            "\n",
            "Validation Performance:\n",
            "\n"
          ]
        },
        {
          "output_type": "stream",
          "name": "stderr",
          "text": [
            "/usr/local/lib/python3.10/dist-packages/sklearn/linear_model/_logistic.py:458: ConvergenceWarning: lbfgs failed to converge (status=1):\n",
            "STOP: TOTAL NO. of ITERATIONS REACHED LIMIT.\n",
            "\n",
            "Increase the number of iterations (max_iter) or scale the data as shown in:\n",
            "    https://scikit-learn.org/stable/modules/preprocessing.html\n",
            "Please also refer to the documentation for alternative solver options:\n",
            "    https://scikit-learn.org/stable/modules/linear_model.html#logistic-regression\n",
            "  n_iter_i = _check_optimize_result(\n"
          ]
        },
        {
          "output_type": "stream",
          "name": "stdout",
          "text": [
            "Logistic regression: 0.3353808353808354\n",
            "Bagging: 0.3402948402948403\n",
            "DecisionTree: 0.40540540540540543\n",
            "Random Forest: 0.28378378378378377\n",
            "AdaBoost: 0.33292383292383293\n",
            "XGBoost: 0.33906633906633904\n"
          ]
        }
      ]
    },
    {
      "cell_type": "code",
      "source": [
        "#With oversampled data, the decision tree still has the best recall score."
      ],
      "metadata": {
        "id": "MkPiKh-XWhy2"
      },
      "execution_count": null,
      "outputs": []
    },
    {
      "cell_type": "markdown",
      "metadata": {
        "id": "1aimb6bn4jat"
      },
      "source": [
        "### Model Building with Undersampled data"
      ]
    },
    {
      "cell_type": "code",
      "execution_count": 70,
      "metadata": {
        "id": "DhxfTkvu4jat"
      },
      "outputs": [],
      "source": [
        "# Random undersampler for under sampling the data\n",
        "rus = RandomUnderSampler(random_state=1, sampling_strategy=1)\n",
        "X_train_un, y_train_un = rus.fit_resample(X_train, y_train)"
      ]
    },
    {
      "cell_type": "code",
      "execution_count": 71,
      "metadata": {
        "id": "jROP_DVF4jau",
        "colab": {
          "base_uri": "https://localhost:8080/"
        },
        "outputId": "d38328fa-6c3e-47b1-814a-eea2a2ae5df6"
      },
      "outputs": [
        {
          "output_type": "stream",
          "name": "stdout",
          "text": [
            "Before Under Sampling, counts of label 'Yes': 2443\n",
            "Before Under Sampling, counts of label 'No': 25385 \n",
            "\n",
            "After Under Sampling, counts of label 'Yes': 2443\n",
            "After Under Sampling, counts of label 'No': 2443 \n",
            "\n",
            "After Under Sampling, the shape of train_X: (4886, 62)\n",
            "After Under Sampling, the shape of train_y: (4886,) \n",
            "\n"
          ]
        }
      ],
      "source": [
        "print(\"Before Under Sampling, counts of label 'Yes': {}\".format(sum(y_train == 1)))\n",
        "print(\"Before Under Sampling, counts of label 'No': {} \\n\".format(sum(y_train == 0)))\n",
        "\n",
        "print(\"After Under Sampling, counts of label 'Yes': {}\".format(sum(y_train_un == 1)))\n",
        "print(\"After Under Sampling, counts of label 'No': {} \\n\".format(sum(y_train_un == 0)))\n",
        "\n",
        "print(\"After Under Sampling, the shape of train_X: {}\".format(X_train_un.shape))\n",
        "print(\"After Under Sampling, the shape of train_y: {} \\n\".format(y_train_un.shape))"
      ]
    },
    {
      "cell_type": "code",
      "source": [
        "models = []  # Empty list to store all the Undersampled models\n",
        "\n",
        "# Appending undersampled models into the list\n",
        "models.append((\"Logistic regression\", LogisticRegression(random_state=1)))\n",
        "models.append((\"Bagging\", BaggingClassifier(random_state=1)))\n",
        "models.append((\"DecisionTree\", DecisionTreeClassifier(random_state=1)))\n",
        "models.append((\"Random Forest\", RandomForestClassifier(random_state=1)))\n",
        "models.append((\"AdaBoost\", AdaBoostClassifier(random_state=1)))\n",
        "models.append((\"XGBoost\", XGBClassifier(random_state=1)))\n",
        "\n",
        "print(\"\\n\" \"Training Performance:\" \"\\n\")\n",
        "for name, model in models:\n",
        "    model.fit(X_train_un, y_train_un)\n",
        "    scores = recall_score(y_train_un, model.predict(X_train_un))\n",
        "    print(\"{}: {}\".format(name, scores))\n",
        "\n",
        "print(\"\\n\" \"Validation Performance:\" \"\\n\")\n",
        "\n",
        "for name, model in models:\n",
        "    model.fit(X_train_un, y_train_un)\n",
        "    scores_val = recall_score(y_val, model.predict(X_val))\n",
        "    print(\"{}: {}\".format(name, scores_val))"
      ],
      "metadata": {
        "colab": {
          "base_uri": "https://localhost:8080/"
        },
        "id": "CvMmL-GYVU4g",
        "outputId": "e0aaccc6-f26a-48ba-d01d-9075870bf49a"
      },
      "execution_count": 72,
      "outputs": [
        {
          "output_type": "stream",
          "name": "stdout",
          "text": [
            "\n",
            "Training Performance:\n",
            "\n",
            "Logistic regression: 0.6913630781825624\n"
          ]
        },
        {
          "output_type": "stream",
          "name": "stderr",
          "text": [
            "/usr/local/lib/python3.10/dist-packages/sklearn/linear_model/_logistic.py:458: ConvergenceWarning: lbfgs failed to converge (status=1):\n",
            "STOP: TOTAL NO. of ITERATIONS REACHED LIMIT.\n",
            "\n",
            "Increase the number of iterations (max_iter) or scale the data as shown in:\n",
            "    https://scikit-learn.org/stable/modules/preprocessing.html\n",
            "Please also refer to the documentation for alternative solver options:\n",
            "    https://scikit-learn.org/stable/modules/linear_model.html#logistic-regression\n",
            "  n_iter_i = _check_optimize_result(\n"
          ]
        },
        {
          "output_type": "stream",
          "name": "stdout",
          "text": [
            "Bagging: 0.9688907081457224\n",
            "DecisionTree: 1.0\n",
            "Random Forest: 1.0\n",
            "AdaBoost: 0.6921817437576749\n",
            "XGBoost: 0.8743348342202211\n",
            "\n",
            "Validation Performance:\n",
            "\n",
            "Logistic regression: 0.6916461916461917\n"
          ]
        },
        {
          "output_type": "stream",
          "name": "stderr",
          "text": [
            "/usr/local/lib/python3.10/dist-packages/sklearn/linear_model/_logistic.py:458: ConvergenceWarning: lbfgs failed to converge (status=1):\n",
            "STOP: TOTAL NO. of ITERATIONS REACHED LIMIT.\n",
            "\n",
            "Increase the number of iterations (max_iter) or scale the data as shown in:\n",
            "    https://scikit-learn.org/stable/modules/preprocessing.html\n",
            "Please also refer to the documentation for alternative solver options:\n",
            "    https://scikit-learn.org/stable/modules/linear_model.html#logistic-regression\n",
            "  n_iter_i = _check_optimize_result(\n"
          ]
        },
        {
          "output_type": "stream",
          "name": "stdout",
          "text": [
            "Bagging: 0.6203931203931204\n",
            "DecisionTree: 0.6633906633906634\n",
            "Random Forest: 0.6707616707616708\n",
            "AdaBoost: 0.6977886977886978\n",
            "XGBoost: 0.6793611793611793\n"
          ]
        }
      ]
    },
    {
      "cell_type": "code",
      "source": [
        "#With undersampled data, AdaBoost appears to have the best recall score."
      ],
      "metadata": {
        "id": "CcsdWeiuWwlO"
      },
      "execution_count": null,
      "outputs": []
    },
    {
      "cell_type": "markdown",
      "metadata": {
        "id": "yZGY1eL84jau"
      },
      "source": [
        "### HyperparameterTuning"
      ]
    },
    {
      "cell_type": "markdown",
      "source": [
        "#### Sample Parameter Grids"
      ],
      "metadata": {
        "id": "rxM3jQuK_Pqc"
      }
    },
    {
      "cell_type": "markdown",
      "metadata": {
        "id": "czq7BZ5b4jau"
      },
      "source": [
        "**Hyperparameter tuning can take a long time to run, so to avoid that time complexity - you can use the following grids, wherever required.**\n",
        "\n",
        "- For Gradient Boosting:\n",
        "\n",
        "```\n",
        "param_grid = {\n",
        "    \"init\": [AdaBoostClassifier(random_state=1),DecisionTreeClassifier(random_state=1)],\n",
        "    \"n_estimators\": np.arange(75,150,25),\n",
        "    \"learning_rate\": [0.1, 0.01, 0.2, 0.05, 1],\n",
        "    \"subsample\":[0.5,0.7,1],\n",
        "    \"max_features\":[0.5,0.7,1],\n",
        "}\n",
        "```\n",
        "\n",
        "- For Adaboost:\n",
        "\n",
        "```\n",
        "param_grid = {\n",
        "     \"n_estimators\": np.arange(10, 110, 10),\n",
        "     \"learning_rate\": [0.1, 0.01, 0.2, 0.05, 1],\n",
        "     \"base_estimator\": [\n",
        "         DecisionTreeClassifier(max_depth=1, random_state=1),\n",
        "         DecisionTreeClassifier(max_depth=2, random_state=1),\n",
        "         DecisionTreeClassifier(max_depth=3, random_state=1),\n",
        "    ]\n",
        "}\n",
        "```\n",
        "\n",
        "- For Bagging Classifier:\n",
        "\n",
        "```\n",
        "param_grid = {\n",
        "    'max_samples': [0.8,0.9,1],\n",
        "    'max_features': [0.7,0.8,0.9],\n",
        "    'n_estimators' : [30,50,70],\n",
        "}\n",
        "```\n",
        "- For Random Forest:\n",
        "\n",
        "```\n",
        "param_grid = {\n",
        "    \"n_estimators\": [200,250,300],\n",
        "    \"min_samples_leaf\": np.arange(1, 4),\n",
        "    \"max_features\": [np.arange(0.3, 0.6, 0.1),'sqrt'],\n",
        "    \"max_samples\": np.arange(0.4, 0.7, 0.1)\n",
        "}\n",
        "```\n",
        "\n",
        "- For Decision Trees:\n",
        "\n",
        "```\n",
        "param_grid = {\n",
        "    'max_depth': np.arange(2,6),\n",
        "    'min_samples_leaf': [1, 4, 7],\n",
        "    'max_leaf_nodes' : [10, 15],\n",
        "    'min_impurity_decrease': [0.0001,0.001]\n",
        "}\n",
        "```\n",
        "\n",
        "- For Logistic Regression:\n",
        "\n",
        "```\n",
        "param_grid = {'C': np.arange(0.1,1.1,0.1)}\n",
        "\n",
        "```\n",
        "- For XGBoost:\n",
        "\n",
        "```\n",
        "param_grid={\n",
        "   'n_estimators':np.arange(50,300,50),\n",
        "   'scale_pos_weight':[0,1,2,5,10],\n",
        "   'learning_rate':[0.01,0.1,0.2,0.05],\n",
        "   'gamma':[0,1,3,5],\n",
        "   'subsample':[0.7,0.8,0.9,1]\n",
        "}\n",
        "```"
      ]
    },
    {
      "cell_type": "markdown",
      "source": [
        "#### Sample tuning method for Decision tree with original data"
      ],
      "metadata": {
        "id": "GMReRXdH_YUd"
      }
    },
    {
      "cell_type": "code",
      "source": [
        "# defining model\n",
        "Model = DecisionTreeClassifier(random_state=1)\n",
        "\n",
        "# Parameter grid to pass in RandomSearchCV\n",
        "param_grid = {'max_depth': np.arange(2,6),\n",
        "              'min_samples_leaf': [1, 4, 7],\n",
        "              'max_leaf_nodes' : [10,15],\n",
        "              'min_impurity_decrease': [0.0001,0.001] }\n",
        "\n",
        "#Calling RandomizedSearchCV\n",
        "randomized_cv = RandomizedSearchCV(estimator=Model, param_distributions=param_grid, n_iter=10, n_jobs = -1, scoring=None, cv=5, random_state=1)\n",
        "\n",
        "#Fitting parameters in RandomizedSearchCV\n",
        "randomized_cv.fit(X_train,y_train)\n",
        "\n",
        "print(\"Best parameters are {} with CV score={}:\" .format(randomized_cv.best_params_,randomized_cv.best_score_))"
      ],
      "metadata": {
        "id": "o9kks1hG_Xhy",
        "colab": {
          "base_uri": "https://localhost:8080/"
        },
        "outputId": "e0188afc-356f-4426-f3a8-1c67f659f7fa"
      },
      "execution_count": 92,
      "outputs": [
        {
          "output_type": "stream",
          "name": "stdout",
          "text": [
            "Best parameters are {'min_samples_leaf': 7, 'min_impurity_decrease': 0.0001, 'max_leaf_nodes': 15, 'max_depth': 5} with CV score=0.9250034947775271:\n"
          ]
        }
      ]
    },
    {
      "cell_type": "markdown",
      "metadata": {
        "id": "chN8hbfThKyr"
      },
      "source": [
        "#### Sample tuning method for Decision tree with oversampled data"
      ]
    },
    {
      "cell_type": "code",
      "execution_count": 94,
      "metadata": {
        "id": "tVZcJ0hv4jau",
        "colab": {
          "base_uri": "https://localhost:8080/"
        },
        "outputId": "cee70426-1826-4e90-db10-4f3e758c4e2c"
      },
      "outputs": [
        {
          "output_type": "stream",
          "name": "stdout",
          "text": [
            "Best parameters are {'min_samples_leaf': 7, 'min_impurity_decrease': 0.0001, 'max_leaf_nodes': 15, 'max_depth': 5} with CV score=0.7839078195784912:\n"
          ]
        }
      ],
      "source": [
        "# defining model\n",
        "Model = DecisionTreeClassifier(random_state=1)\n",
        "\n",
        "# Parameter grid to pass in RandomSearchCV\n",
        "param_grid = {'max_depth': np.arange(2,6),\n",
        "              'min_samples_leaf': [1, 4, 7],\n",
        "              'max_leaf_nodes' : [10,15],\n",
        "              'min_impurity_decrease': [0.0001,0.001] }\n",
        "\n",
        "#Calling RandomizedSearchCV\n",
        "randomized_cv = RandomizedSearchCV(estimator=Model, param_distributions=param_grid, n_iter=10, n_jobs = -1, scoring=None, cv=5, random_state=1)\n",
        "\n",
        "#Fitting parameters in RandomizedSearchCV\n",
        "randomized_cv.fit(X_train_over,y_train_over)\n",
        "\n",
        "print(\"Best parameters are {} with CV score={}:\" .format(randomized_cv.best_params_,randomized_cv.best_score_))"
      ]
    },
    {
      "cell_type": "markdown",
      "metadata": {
        "id": "HtPIiIS7hKyr"
      },
      "source": [
        "#### Sample tuning method for Decision tree with undersampled data"
      ]
    },
    {
      "cell_type": "code",
      "execution_count": 95,
      "metadata": {
        "id": "5pbdykhHhKyr",
        "colab": {
          "base_uri": "https://localhost:8080/"
        },
        "outputId": "a622d3de-a63e-4e23-c8e1-9052b47d0c1e"
      },
      "outputs": [
        {
          "output_type": "stream",
          "name": "stdout",
          "text": [
            "Best parameters are {'min_samples_leaf': 1, 'min_impurity_decrease': 0.001, 'max_leaf_nodes': 15, 'max_depth': 11} with CV score=0.698118274505864:\n"
          ]
        }
      ],
      "source": [
        "# defining model\n",
        "Model = DecisionTreeClassifier(random_state=1)\n",
        "\n",
        "# Parameter grid to pass in RandomSearchCV\n",
        "param_grid = {'max_depth': np.arange(2,20),\n",
        "              'min_samples_leaf': [1, 2, 5, 7],\n",
        "              'max_leaf_nodes' : [5, 10,15],\n",
        "              'min_impurity_decrease': [0.0001,0.001] }\n",
        "\n",
        "#Calling RandomizedSearchCV\n",
        "randomized_cv = RandomizedSearchCV(estimator=Model, param_distributions=param_grid, n_iter=10, n_jobs = -1, scoring=None, cv=5, random_state=1)\n",
        "\n",
        "#Fitting parameters in RandomizedSearchCV\n",
        "randomized_cv.fit(X_train_un,y_train_un)\n",
        "\n",
        "print(\"Best parameters are {} with CV score={}:\" .format(randomized_cv.best_params_,randomized_cv.best_score_))"
      ]
    },
    {
      "cell_type": "markdown",
      "metadata": {
        "id": "D9JNnpxa4jau"
      },
      "source": [
        "## Model Comparison and Final Model Selection"
      ]
    },
    {
      "cell_type": "code",
      "execution_count": 102,
      "metadata": {
        "id": "0JG85rkY4jav",
        "colab": {
          "base_uri": "https://localhost:8080/",
          "height": 423
        },
        "outputId": "51de1cc5-1d3d-4d38-b175-b457e6fc52f1"
      },
      "outputs": [
        {
          "output_type": "stream",
          "name": "stdout",
          "text": [
            "   Accuracy    Recall  Precision        F1\n",
            "0  0.904421  0.874335   0.930314  0.901456\n"
          ]
        },
        {
          "output_type": "display_data",
          "data": {
            "text/plain": [
              "<Figure size 600x400 with 2 Axes>"
            ],
            "image/png": "[encoded data removed]"
          },
          "metadata": {}
        }
      ],
      "source": [
        "#The best model for this project appears to be the Decision Tree Model\n",
        "#Using the undersampled data gives the best results and most accurate\n",
        "#picture of how the model fits the training data.\n",
        "\n",
        "DTC=model_performance_classification_sklearn(model, X_train_un, y_train_un)\n",
        "print(DTC)\n",
        "\n",
        "confusion_matrix_sklearn(model, X_train_un, y_train_un)"
      ]
    },
    {
      "cell_type": "markdown",
      "metadata": {
        "id": "d_pDMFAz4jav"
      },
      "source": [
        "### Test set final performance"
      ]
    },
    {
      "cell_type": "code",
      "execution_count": 100,
      "metadata": {
        "id": "g8-epsXv4jav",
        "colab": {
          "base_uri": "https://localhost:8080/",
          "height": 423
        },
        "outputId": "301c300d-62ff-4aa9-dc22-203b263249c2"
      },
      "outputs": [
        {
          "output_type": "stream",
          "name": "stdout",
          "text": [
            "   Accuracy    Recall  Precision        F1\n",
            "0  0.759595  0.689189    0.22104  0.334726\n"
          ]
        },
        {
          "output_type": "display_data",
          "data": {
            "text/plain": [
              "<Figure size 600x400 with 2 Axes>"
            ],
            "image/png": "[encoded data removed]"
          },
          "metadata": {}
        }
      ],
      "source": [
        "#The Decision Tree does not seem to perfom as well on the complete set\n",
        "#of test data.\n",
        "#The model is likely overfit to the training data.\n",
        "#The test data set is imbalanced.\n",
        "#Oversampling is required to get a good fit on the training\n",
        "#and validation data.\n",
        "#The false positives are relatively high.\n",
        "\n",
        "DTC=model_performance_classification_sklearn(model, X_test, y_test)\n",
        "print(DTC)\n",
        "\n",
        "confusion_matrix_sklearn(model, X_test, y_test)"
      ]
    },
    {
      "cell_type": "code",
      "execution_count": 111,
      "metadata": {
        "id": "Zzg12gvx4jav",
        "colab": {
          "base_uri": "https://localhost:8080/",
          "height": 423
        },
        "outputId": "7f8d0263-ec2a-4bc7-8fb0-574b18851563"
      },
      "outputs": [
        {
          "output_type": "stream",
          "name": "stdout",
          "text": [
            "   Accuracy    Recall  Precision        F1\n",
            "0  0.928741  0.227273   0.852535  0.358875\n"
          ]
        },
        {
          "output_type": "display_data",
          "data": {
            "text/plain": [
              "<Figure size 600x400 with 2 Axes>"
            ],
            "image/png": "[encoded data removed]"
          },
          "metadata": {}
        }
      ],
      "source": [
        "#Modifying Decision Tree Classifier Parameters\n",
        "#using the parameters given in the Randomized Search.\n",
        "#I updated the decision tree model to reflect the hyperparameters output\n",
        "#from the tuning section.\n",
        "#The accuracy and precison stay high\n",
        "#The recall and F1 scores are very low.\n",
        "#The confusion matrix shows very good results with low amounts of\n",
        "#FP and FN results.\n",
        "#Again reflecting the data imbalance.\n",
        "\n",
        "Model = DecisionTreeClassifier(min_samples_leaf=7, min_impurity_decrease=0.0001, max_leaf_nodes=15, max_depth=5, random_state=1)\n",
        "DTC_Tuned=Model.fit(X_test, y_test)\n",
        "DTC_Score=model_performance_classification_sklearn(DTC_Tuned, X_test, y_test)\n",
        "print(DTC_Score)\n",
        "\n",
        "confusion_matrix_sklearn(Model, X_test, y_test)"
      ]
    },
    {
      "cell_type": "markdown",
      "metadata": {
        "id": "TM6VZTRn4jav"
      },
      "source": [
        "## Pipelines to build the final model\n"
      ]
    },
    {
      "cell_type": "markdown",
      "metadata": {
        "id": "c5hPmHyR4jaw"
      },
      "source": [
        "# Business Insights and Conclusions"
      ]
    },
    {
      "cell_type": "markdown",
      "source": [
        "- The imbalance in the data appears to reflect that every time an employee meets the criteria for promotion, they are promoted. The confusion matrix of the tuned model is reversed. A zero value for is_promoted means that they were not promoted. A one value for is_promoted meeans that they were promoted. The quadrant on the CM that is 1,1 are the employees that were promoted and predicted to be promoted.  \n",
        "- The factors most likely to determine whether an employee is promoted are: their rating from last year, average training scores, awards won, and then length of service and age follow those factors.\n",
        "- The company can determine which employees will be promoted based on performance. Generally it improves with more experience in their role - higher length of service and higher age.\n"
      ],
      "metadata": {
        "id": "E3Ii27CODnbe"
      }
    },
    {
      "cell_type": "markdown",
      "source": [
        "***"
      ],
      "metadata": {
        "id": "VB3eO21n_sgt"
      }
    }
  ],
  "metadata": {
    "colab": {
      "provenance": [],
      "include_colab_link": true
    },
    "kernelspec": {
      "display_name": "Python 3",
      "language": "python",
      "name": "python3"
    },
    "language_info": {
      "codemirror_mode": {
        "name": "ipython",
        "version": 3
      },
      "file_extension": ".py",
      "mimetype": "text/x-python",
      "name": "python",
      "nbconvert_exporter": "python",
      "pygments_lexer": "ipython3",
      "version": "3.8.8"
    }
  },
  "nbformat": 4,
  "nbformat_minor": 0
}