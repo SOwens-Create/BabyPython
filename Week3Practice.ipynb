{
  "nbformat": 4,
  "nbformat_minor": 0,
  "metadata": {
    "colab": {
      "provenance": [],
      "authorship_tag": "ABX9TyNRkHjbkJRb9t25qsTYBki/",
      "include_colab_link": true
    },
    "kernelspec": {
      "name": "python3",
      "display_name": "Python 3"
    },
    "language_info": {
      "name": "python"
    }
  },
  "cells": [
    {
      "cell_type": "markdown",
      "metadata": {
        "id": "view-in-github",
        "colab_type": "text"
      },
      "source": [
        "<a href=\"https://colab.research.google.com/github/SOwens-Create/BabyPython/blob/master/Week3Practice.ipynb\" target=\"_parent\"><img src=\"https://colab.research.google.com/assets/colab-badge.svg\" alt=\"Open In Colab\"/></a>"
      ]
    },
    {
      "cell_type": "code",
      "execution_count": null,
      "metadata": {
        "colab": {
          "base_uri": "https://localhost:8080/"
        },
        "id": "ixOmFEdLNC7E",
        "outputId": "a1d2a903-d22c-4aae-c7ba-fe0608c3803e"
      },
      "outputs": [
        {
          "output_type": "stream",
          "name": "stdout",
          "text": [
            "PythonTutorial\n"
          ]
        }
      ],
      "source": [
        "my_string = 'Python'\n",
        "my_list = ['Data Science', 'Machine Learning', 'Artificial Intelligencen', 'Python']\n",
        "\n",
        "if my_string in my_list:\n",
        "   print(my_string + 'Tutorial') "
      ]
    },
    {
      "cell_type": "code",
      "source": [
        "languages = ['java', 'python', 'perl', 'ruby', 'c#']\n",
        "if 'python' in languages:\n",
        "  print('right')"
      ],
      "metadata": {
        "colab": {
          "base_uri": "https://localhost:8080/"
        },
        "id": "8da0xQRXRY8F",
        "outputId": "e0f728d6-b2b1-4656-bed3-4372d6d7292b"
      },
      "execution_count": null,
      "outputs": [
        {
          "output_type": "stream",
          "name": "stdout",
          "text": [
            "right\n"
          ]
        }
      ]
    },
    {
      "cell_type": "code",
      "source": [
        "#create an integer\n",
        "x = 200\n",
        "print(x)\n",
        "\n",
        "#uses the not operator to reverse the result of the logical expression\n",
        "if not x == 500:\n",
        "  print('the value of x different from 500')\n",
        "else:\n",
        "  print('the value of x is equal to 500')"
      ],
      "metadata": {
        "colab": {
          "base_uri": "https://localhost:8080/"
        },
        "id": "iU7d4_UwRpTB",
        "outputId": "3b52f7ce-d784-4b92-971c-d6da55da1f09"
      },
      "execution_count": null,
      "outputs": [
        {
          "output_type": "stream",
          "name": "stdout",
          "text": [
            "200\n",
            "the value of x different from 500\n"
          ]
        }
      ]
    },
    {
      "cell_type": "code",
      "source": [],
      "metadata": {
        "id": "mSa9qUKsSKJa"
      },
      "execution_count": null,
      "outputs": []
    }
  ]
}