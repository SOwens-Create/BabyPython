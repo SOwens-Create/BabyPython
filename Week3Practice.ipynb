{
  "nbformat": 4,
  "nbformat_minor": 0,
  "metadata": {
    "colab": {
      "provenance": [],
      "authorship_tag": "ABX9TyOakEv5a9wCx6BbJylu+dQu",
      "include_colab_link": true
    },
    "kernelspec": {
      "name": "python3",
      "display_name": "Python 3"
    },
    "language_info": {
      "name": "python"
    }
  },
  "cells": [
    {
      "cell_type": "markdown",
      "metadata": {
        "id": "view-in-github",
        "colab_type": "text"
      },
      "source": [
        "<a href=\"https://colab.research.google.com/github/SOwens-Create/BabyPython/blob/master/Week3Practice.ipynb\" target=\"_parent\"><img src=\"https://colab.research.google.com/assets/colab-badge.svg\" alt=\"Open In Colab\"/></a>"
      ]
    },
    {
      "cell_type": "code",
      "execution_count": null,
      "metadata": {
        "colab": {
          "base_uri": "https://localhost:8080/"
        },
        "id": "ixOmFEdLNC7E",
        "outputId": "a1d2a903-d22c-4aae-c7ba-fe0608c3803e"
      },
      "outputs": [
        {
          "output_type": "stream",
          "name": "stdout",
          "text": [
            "PythonTutorial\n"
          ]
        }
      ],
      "source": [
        "my_string = 'Python'\n",
        "my_list = ['Data Science', 'Machine Learning', 'Artificial Intelligencen', 'Python']\n",
        "\n",
        "if my_string in my_list:\n",
        "   print(my_string + 'Tutorial') "
      ]
    },
    {
      "cell_type": "code",
      "source": [
        "languages = ['java', 'python', 'perl', 'ruby', 'c#']\n",
        "if 'python' in languages:\n",
        "  print('right')"
      ],
      "metadata": {
        "colab": {
          "base_uri": "https://localhost:8080/"
        },
        "id": "8da0xQRXRY8F",
        "outputId": "e0f728d6-b2b1-4656-bed3-4372d6d7292b"
      },
      "execution_count": null,
      "outputs": [
        {
          "output_type": "stream",
          "name": "stdout",
          "text": [
            "right\n"
          ]
        }
      ]
    },
    {
      "cell_type": "code",
      "source": [
        "#create an integer\n",
        "x = 200\n",
        "print(x)\n",
        "\n",
        "#uses the not operator to reverse the result of the logical expression\n",
        "if not x == 500:\n",
        "  print('the value of x different from 500')\n",
        "else:\n",
        "  print('the value of x is equal to 500')"
      ],
      "metadata": {
        "colab": {
          "base_uri": "https://localhost:8080/"
        },
        "id": "iU7d4_UwRpTB",
        "outputId": "3b52f7ce-d784-4b92-971c-d6da55da1f09"
      },
      "execution_count": null,
      "outputs": [
        {
          "output_type": "stream",
          "name": "stdout",
          "text": [
            "200\n",
            "the value of x different from 500\n"
          ]
        }
      ]
    },
    {
      "cell_type": "code",
      "source": [
        "string1 = str(input(\"enter your userid\"))\n",
        "string2 = str(input(\"enter your password\"))\n",
        "\n",
        "if (string1 == \"greatlearning\" and string2 == \"simplelearning123\"):\n",
        "    print(\"Successfully Logged In!\")\n",
        "else:\n",
        "  print(\"Please check your userid and password\")"
      ],
      "metadata": {
        "id": "mSa9qUKsSKJa",
        "colab": {
          "base_uri": "https://localhost:8080/"
        },
        "outputId": "cd170853-9a48-438a-bc4a-8010e3c90cda"
      },
      "execution_count": 1,
      "outputs": [
        {
          "output_type": "stream",
          "name": "stdout",
          "text": [
            "enter your useridgreatlearning\n",
            "enter your passwordsimplelearning123\n",
            "Successfully Logged In!\n"
          ]
        }
      ]
    },
    {
      "cell_type": "code",
      "source": [
        "num = 100\n",
        "if (num == 0):\n",
        "    print(\"Number is Zero\")\n",
        "elif (num > 5):\n",
        "    print(\"Number is greater than 50\")\n",
        "else:\n",
        "    print(\"Number is smaller than 50\")"
      ],
      "metadata": {
        "colab": {
          "base_uri": "https://localhost:8080/"
        },
        "id": "a5kG5vvmTAqC",
        "outputId": "3210477d-eb5c-4204-96cd-7b5da919a162"
      },
      "execution_count": 2,
      "outputs": [
        {
          "output_type": "stream",
          "name": "stdout",
          "text": [
            "Number is greater than 50\n"
          ]
        }
      ]
    },
    {
      "cell_type": "code",
      "source": [
        "num = float(input(\"Enter a number: \"))\n",
        "if num >= 0:\n",
        "   if num == 0:\n",
        "      print(\"Zero\")\n",
        "   else:\n",
        "      print(\"Positive Number\")\n",
        "else:\n",
        "  print(\"Negative Number\")"
      ],
      "metadata": {
        "colab": {
          "base_uri": "https://localhost:8080/"
        },
        "id": "LEUnCSnaTWda",
        "outputId": "396dc0b8-946e-4cf8-dd89-ae05b41d4a7b"
      },
      "execution_count": 3,
      "outputs": [
        {
          "output_type": "stream",
          "name": "stdout",
          "text": [
            "Enter a number: 23\n",
            "Positive Number\n"
          ]
        }
      ]
    },
    {
      "cell_type": "code",
      "source": [
        "#List of numbers\n",
        "numbers = [66, 545, 223, 438, 224, 122, 125, 214, 111]\n",
        "\n",
        "#variable to store the sum\n",
        "sum = 0\n",
        "\n",
        "#iterate over the list\n",
        "for val in numbers:\n",
        "  sum = sum+val\n",
        "\n",
        "#Output: The sum is 48\n",
        "print(\"The sum is:\", sum)"
      ],
      "metadata": {
        "colab": {
          "base_uri": "https://localhost:8080/"
        },
        "id": "0aYxoyvST1Ri",
        "outputId": "321ef0bc-abf5-4d05-85bb-a85e9daf86ee"
      },
      "execution_count": 4,
      "outputs": [
        {
          "output_type": "stream",
          "name": "stdout",
          "text": [
            "The sum is: 2068\n"
          ]
        }
      ]
    },
    {
      "cell_type": "code",
      "source": [
        "#Calculate the sum of integers from 0 to 9\n",
        "a = 0;\n",
        "b = 0\n",
        "while (a < 10):\n",
        "   b = b + a\n",
        "   a = a + 1\n",
        "else:\n",
        "   print('The sum of first 9 integers: ', b)"
      ],
      "metadata": {
        "colab": {
          "base_uri": "https://localhost:8080/"
        },
        "id": "rDqtS-YXUagY",
        "outputId": "0d7a4659-8d59-4d7b-c1a1-9ed09d207fb7"
      },
      "execution_count": 6,
      "outputs": [
        {
          "output_type": "stream",
          "name": "stdout",
          "text": [
            "The sum of first 9 integers:  45\n"
          ]
        }
      ]
    },
    {
      "cell_type": "code",
      "source": [
        "#Check whether a number entered by the user is negative or not\n",
        "for i in range(5):\n",
        "    a = int(input())\n",
        "    if a < 0:\n",
        "      print('Met a negative number', a)\n",
        "      break\n",
        "else:\n",
        "   print('no negative numbers met')"
      ],
      "metadata": {
        "colab": {
          "base_uri": "https://localhost:8080/"
        },
        "id": "BBkvyIYPU34x",
        "outputId": "9ae0f289-cc94-446f-e9d9-d21c52d6b45b"
      },
      "execution_count": 7,
      "outputs": [
        {
          "output_type": "stream",
          "name": "stdout",
          "text": [
            "78\n",
            "89\n",
            "09\n",
            "89\n",
            "78\n",
            "no negative numbers met\n"
          ]
        }
      ]
    },
    {
      "cell_type": "code",
      "source": [
        "#Loop from 1 to 10\n",
        "for i in range(1, 11):\n",
        "   if i == 6:\n",
        "      continue\n",
        "   else:\n",
        "      #otherwise print the value of i\n",
        "      print(i, end = \" \")"
      ],
      "metadata": {
        "colab": {
          "base_uri": "https://localhost:8080/"
        },
        "id": "EFREclMEVX5C",
        "outputId": "d1003301-b8bb-427c-dfa5-025dc5bb6aa8"
      },
      "execution_count": 11,
      "outputs": [
        {
          "output_type": "stream",
          "name": "stdout",
          "text": [
            "1 2 3 4 5 7 8 9 10 "
          ]
        }
      ]
    },
    {
      "cell_type": "code",
      "source": [
        "i = 0\n",
        "while i < 9:\n",
        "   i += 1\n",
        "   if i == 3:\n",
        "      continue\n",
        "   print(i)"
      ],
      "metadata": {
        "colab": {
          "base_uri": "https://localhost:8080/"
        },
        "id": "47lfdSibV3DR",
        "outputId": "ecf5940a-32ce-469a-a2ca-ad7c5a312766"
      },
      "execution_count": 12,
      "outputs": [
        {
          "output_type": "stream",
          "name": "stdout",
          "text": [
            "1\n",
            "2\n",
            "4\n",
            "5\n",
            "6\n",
            "7\n",
            "8\n",
            "9\n"
          ]
        }
      ]
    }
  ]
}